{
 "cells": [
  {
   "cell_type": "markdown",
   "metadata": {},
   "source": [
    "# Capstone Project - Exploring and Clustering Restaurants in Pune, India\n",
   ]
  },
  {
   "cell_type": "markdown",
   "metadata": {},
   "source": [
    "## Table of contents\n",
    "* [Introduction: Business Problem](#introduction)\n",
    "* [Data](#data)\n",
    "* [Methodology](#methodology)\n",
    "* [Analysis](#analysis)\n",
    "* [Results and Discussion](#results)\n",
    "* [Conclusion](#conclusion)"
   ]
  },
  {
   "cell_type": "markdown",
   "metadata": {},
   "source": [
    "## Introduction: Business Problem <a name=\"introduction\"></a>"
   ]
  },
  {
   "cell_type": "markdown",
   "metadata": {},
   "source": [
    "In this project we will explore and group the **restaurants** in the city of **Pune** in few categories based on the **Ratings** and **Price range** of the Restaurants.\n",
    "Pune is home to an eclectic crowd of food-lovers and the city serves up everything from Western favourites to Asian delicacies. Whether you’re looking for a haven of fusion foods or a traditional taste of lip-smacking snacks—there’s no dearth of restaurants to satisfy the discerning palate.Pune, being a metropolis and centre of prominent education institutes, is a melting pot of cultures which is reflected in its food too. \n",
    "The food-lovers are always in search of Restaurants with Good Ratings and also Restaurants that suits there Pocket.This project will help these people to shortlist and plan their visit to the restaurants accordingly.\n",
    "This project will also help businesses who are looking to invest in eateries in the Pune city.\n",
    "\n",
    "With the help of machine learning and Data science we will try to achieve the objective of this project."
   ]
  },
  {
   "cell_type": "markdown",
   "metadata": {},
   "source": [
    "## Data <a name=\"data\"></a>"
   ]
  },
  {
   "cell_type": "markdown",
   "metadata": {},
   "source": [
    "Based on definition of our problem, factors that will influence our decission are:\n",
    "* The location of the Restaurants in Pune\n",
    "* The categories of these restaurants\n",
    "* The Ratings of these restaurants \n",
    "* The Price range of these restaurants\n",
    "\n",
    "The data source that we will use to fetch the location information,the categories,ratings and price range of restaurants will be **the FourSquare API**"
   ]
  },
  {
   "cell_type": "markdown",
   "metadata": {},
   "source": [
    "Importing the required packages"
   ]
  },
  {
   "cell_type": "code",
   "execution_count": 1,
   "metadata": {},
   "outputs": [
    {
     "name": "stdout",
     "output_type": "stream",
     "text": [
      "Collecting geopy\n",
      "\u001b[?25l  Downloading https://files.pythonhosted.org/packages/53/fc/3d1b47e8e82ea12c25203929efb1b964918a77067a874b2c7631e2ec35ec/geopy-1.21.0-py2.py3-none-any.whl (104kB)\n",
      "\u001b[K     |████████████████████████████████| 112kB 28.9MB/s eta 0:00:01\n",
      "\u001b[?25hCollecting geographiclib<2,>=1.49 (from geopy)\n",
      "  Downloading https://files.pythonhosted.org/packages/8b/62/26ec95a98ba64299163199e95ad1b0e34ad3f4e176e221c40245f211e425/geographiclib-1.50-py3-none-any.whl\n",
      "Installing collected packages: geographiclib, geopy\n",
      "Successfully installed geographiclib-1.50 geopy-1.21.0\n",
      "Note: you may need to restart the kernel to use updated packages.\n"
     ]
    }
   ],
   "source": [
    "#Importing packages\n",
    "import numpy as np\n",
    "import pandas as pd\n",
    "%pip install geopy \n",
    "from geopy.geocoders import Nominatim\n",
    "import matplotlib.cm as cm\n",
    "import matplotlib.colors as colors\n",
    "from sklearn.cluster import KMeans\n",
    "import folium\n",
    "import matplotlib.pyplot as plt\n",
    "import matplotlib.cm as cm\n",
    "import matplotlib.colors as colors\n",
    "import requests # library to handle requests\n",
    "from pandas.io.json import json_normalize # tranform JSON file into a pandas dataframe"
   ]
  },
  {
   "cell_type": "markdown",
   "metadata": {},
   "source": [
    "**Pune** is a city with a large area of 331 sq.km.\n",
    "We will use the geopy library to extract the Latitude and Longitude coordinates of Pune City"
   ]
  },
  {
   "cell_type": "code",
   "execution_count": 2,
   "metadata": {},
   "outputs": [
    {
     "name": "stdout",
     "output_type": "stream",
     "text": [
      "The geograpical coordinates of Pune City are 18.521428, 73.8544541.\n"
     ]
    }
   ],
   "source": [
    "address = 'Pune'\n",
    "\n",
    "geolocator = Nominatim(user_agent=\"pune_explorer\")\n",
    "location = geolocator.geocode(address)\n",
    "latitude = location.latitude\n",
    "longitude = location.longitude\n",
    "print('The geograpical coordinates of Pune City are {}, {}.'.format(latitude, longitude))"
   ]
  },
  {
   "cell_type": "markdown",
   "metadata": {},
   "source": [
    "Now using these co-ordinates and using the Folium library we will plot the Map of Pune\n",
    "It will help us know the centre and surrounding area of it"
   ]
  },
  {
   "cell_type": "code",
   "execution_count": 3,
   "metadata": {},
   "outputs": [
    {
     "data": {
      "text/html": [
       "<div style=\"width:100%;\"><div style=\"position:relative;width:100%;height:0;padding-bottom:60%;\"><iframe src=\"about:blank\" style=\"position:absolute;width:100%;height:100%;left:0;top:0;border:none !important;\" data-html=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 onload=\"this.contentDocument.open();this.contentDocument.write(atob(this.getAttribute('data-html')));this.contentDocument.close();\" allowfullscreen webkitallowfullscreen mozallowfullscreen></iframe></div></div>"
      ],
      "text/plain": [
       "<folium.folium.Map at 0x7f8d687165c0>"
      ]
     },
     "execution_count": 3,
     "metadata": {},
     "output_type": "execute_result"
    }
   ],
   "source": [
    "pune_map = folium.Map(location = [latitude, longitude], zoom_start = 13)\n",
    "folium.Marker([latitude, longitude]).add_to(pune_map)\n",
    "pune_map.save(\"Pune Map.html\")\n",
    "pune_map"
   ]
  },
  {
   "cell_type": "markdown",
   "metadata": {},
   "source": [
    "### Foursquare API\n",
    "Now that we have our location candidates, let's use Foursquare API to get info on restaurants\n",
    "First we will have to define the parameters of the API, we will keep the Radius 20 Km and limit the number of venues to 200"
   ]
  },
  {
   "cell_type": "code",
   "execution_count": 4,
   "metadata": {},
   "outputs": [],
   "source": [
    "CLIENT_ID = '<Your Client Id>' #  Foursquare ID\n",
    "CLIENT_SECRET = '<Your Client Key>' #  Foursquare Secret\n",
    "VERSION = '20180605' # Foursquare API version\n",
    "RADIUS = 20000  \n",
    "LIMIT = 200"
   ]
  },
  {
   "cell_type": "markdown",
   "metadata": {},
   "source": [
    "We will use the /explore API of Foursquare and filter all venues to get only the food-related venues"
   ]
  },
  {
   "cell_type": "code",
   "execution_count": 5,
   "metadata": {},
   "outputs": [
    {
     "data": {
      "text/plain": [
       "100"
      ]
     },
     "execution_count": 5,
     "metadata": {},
     "output_type": "execute_result"
    }
   ],
   "source": [
    "food_category = '4d4b7105d754a06374d81259' # 'Root' category for all food-related venues\n",
    "url = 'https://api.foursquare.com/v2/venues/explore?categoryId={}&client_id={}&client_secret={}&ll={},{}&v={}&radius={}&limit={}'.format(food_category,CLIENT_ID, CLIENT_SECRET, latitude, longitude, VERSION,  RADIUS, LIMIT)\n",
    "results = requests.get(url).json()\n",
    "venues_fetched = len(results['response']['groups'][0]['items'])\n",
    "venues_fetched"
   ]
  },
  {
   "cell_type": "code",
   "execution_count": 6,
   "metadata": {},
   "outputs": [
    {
     "name": "stderr",
     "output_type": "stream",
     "text": [
      "/home/jupyterlab/conda/envs/python/lib/python3.6/site-packages/ipykernel_launcher.py:5: FutureWarning: pandas.io.json.json_normalize is deprecated, use pandas.json_normalize instead\n",
      "  \"\"\"\n"
     ]
    },
    {
     "data": {
      "text/html": [
       "<div>\n",
       "<style scoped>\n",
       "    .dataframe tbody tr th:only-of-type {\n",
       "        vertical-align: middle;\n",
       "    }\n",
       "\n",
       "    .dataframe tbody tr th {\n",
       "        vertical-align: top;\n",
       "    }\n",
       "\n",
       "    .dataframe thead th {\n",
       "        text-align: right;\n",
       "    }\n",
       "</style>\n",
       "<table border=\"1\" class=\"dataframe\">\n",
       "  <thead>\n",
       "    <tr style=\"text-align: right;\">\n",
       "      <th></th>\n",
       "      <th>referralId</th>\n",
       "      <th>reasons.count</th>\n",
       "      <th>reasons.items</th>\n",
       "      <th>venue.id</th>\n",
       "      <th>venue.name</th>\n",
       "      <th>venue.location.address</th>\n",
       "      <th>venue.location.lat</th>\n",
       "      <th>venue.location.lng</th>\n",
       "      <th>venue.location.labeledLatLngs</th>\n",
       "      <th>venue.location.distance</th>\n",
       "      <th>...</th>\n",
       "      <th>venue.location.city</th>\n",
       "      <th>venue.location.state</th>\n",
       "      <th>venue.location.country</th>\n",
       "      <th>venue.location.formattedAddress</th>\n",
       "      <th>venue.categories</th>\n",
       "      <th>venue.photos.count</th>\n",
       "      <th>venue.photos.groups</th>\n",
       "      <th>venue.location.crossStreet</th>\n",
       "      <th>venue.venuePage.id</th>\n",
       "      <th>venue.location.neighborhood</th>\n",
       "    </tr>\n",
       "  </thead>\n",
       "  <tbody>\n",
       "    <tr>\n",
       "      <th>0</th>\n",
       "      <td>e-0-4feebcafe4b0da11fdbe582b-0</td>\n",
       "      <td>0</td>\n",
       "      <td>[{'summary': 'This spot is popular', 'type': '...</td>\n",
       "      <td>4feebcafe4b0da11fdbe582b</td>\n",
       "      <td>Mad Over Donuts</td>\n",
       "      <td>Near Sambhaji Park, JM Road</td>\n",
       "      <td>18.519335</td>\n",
       "      <td>73.845320</td>\n",
       "      <td>[{'label': 'display', 'lat': 18.51933511140425...</td>\n",
       "      <td>991</td>\n",
       "      <td>...</td>\n",
       "      <td>Pune</td>\n",
       "      <td>Mahārāshtra</td>\n",
       "      <td>India</td>\n",
       "      <td>[Near Sambhaji Park, JM Road, Pune 411004, Mah...</td>\n",
       "      <td>[{'id': '4bf58dd8d48988d148941735', 'name': 'D...</td>\n",
       "      <td>0</td>\n",
       "      <td>[]</td>\n",
       "      <td>NaN</td>\n",
       "      <td>NaN</td>\n",
       "      <td>NaN</td>\n",
       "    </tr>\n",
       "    <tr>\n",
       "      <th>1</th>\n",
       "      <td>e-0-509e80b6e4b04eb23d1ec2e2-1</td>\n",
       "      <td>0</td>\n",
       "      <td>[{'summary': 'This spot is popular', 'type': '...</td>\n",
       "      <td>509e80b6e4b04eb23d1ec2e2</td>\n",
       "      <td>Le Plaisir</td>\n",
       "      <td>Shop No. 4B, Lane 6 Intersection, Off Bhandark...</td>\n",
       "      <td>18.514205</td>\n",
       "      <td>73.838551</td>\n",
       "      <td>[{'label': 'display', 'lat': 18.51420497479481...</td>\n",
       "      <td>1861</td>\n",
       "      <td>...</td>\n",
       "      <td>Pune</td>\n",
       "      <td>Mahārāshtra</td>\n",
       "      <td>India</td>\n",
       "      <td>[Shop No. 4B, Lane 6 Intersection, Off Bhandar...</td>\n",
       "      <td>[{'id': '52e81612bcbc57f1066b79f1', 'name': 'B...</td>\n",
       "      <td>0</td>\n",
       "      <td>[]</td>\n",
       "      <td>Opp. Kelkar Eye Hospital, Prabhat Road</td>\n",
       "      <td>52549645</td>\n",
       "      <td>NaN</td>\n",
       "    </tr>\n",
       "    <tr>\n",
       "      <th>2</th>\n",
       "      <td>e-0-4b9b583cf964a520aa0136e3-2</td>\n",
       "      <td>0</td>\n",
       "      <td>[{'summary': 'This spot is popular', 'type': '...</td>\n",
       "      <td>4b9b583cf964a520aa0136e3</td>\n",
       "      <td>Café GoodLuck</td>\n",
       "      <td>759/75, GoodLuck Chowk</td>\n",
       "      <td>18.517388</td>\n",
       "      <td>73.841485</td>\n",
       "      <td>[{'label': 'display', 'lat': 18.5173883002662,...</td>\n",
       "      <td>1440</td>\n",
       "      <td>...</td>\n",
       "      <td>Pune</td>\n",
       "      <td>Mahārāshtra</td>\n",
       "      <td>India</td>\n",
       "      <td>[759/75, GoodLuck Chowk (Corner of FC Road and...</td>\n",
       "      <td>[{'id': '4bf58dd8d48988d16d941735', 'name': 'C...</td>\n",
       "      <td>0</td>\n",
       "      <td>[]</td>\n",
       "      <td>Corner of FC Road and Bhandarkar Road</td>\n",
       "      <td>NaN</td>\n",
       "      <td>NaN</td>\n",
       "    </tr>\n",
       "    <tr>\n",
       "      <th>3</th>\n",
       "      <td>e-0-4de24c587d8b2547eaffe58b-3</td>\n",
       "      <td>0</td>\n",
       "      <td>[{'summary': 'This spot is popular', 'type': '...</td>\n",
       "      <td>4de24c587d8b2547eaffe58b</td>\n",
       "      <td>Tilak Hotel</td>\n",
       "      <td>Sadashiv Peth</td>\n",
       "      <td>18.509603</td>\n",
       "      <td>73.846883</td>\n",
       "      <td>[{'label': 'display', 'lat': 18.50960261815985...</td>\n",
       "      <td>1540</td>\n",
       "      <td>...</td>\n",
       "      <td>Pune</td>\n",
       "      <td>Mahārāshtra</td>\n",
       "      <td>India</td>\n",
       "      <td>[Sadashiv Peth (Tilak road), Pune 411030, Mahā...</td>\n",
       "      <td>[{'id': '4bf58dd8d48988d1c7941735', 'name': 'S...</td>\n",
       "      <td>0</td>\n",
       "      <td>[]</td>\n",
       "      <td>Tilak road</td>\n",
       "      <td>NaN</td>\n",
       "      <td>NaN</td>\n",
       "    </tr>\n",
       "    <tr>\n",
       "      <th>4</th>\n",
       "      <td>e-0-4f016c4629c201c6fec99a78-4</td>\n",
       "      <td>0</td>\n",
       "      <td>[{'summary': 'This spot is popular', 'type': '...</td>\n",
       "      <td>4f016c4629c201c6fec99a78</td>\n",
       "      <td>Barbeque Nation</td>\n",
       "      <td>3rd Floor R Deccan Mall</td>\n",
       "      <td>18.516237</td>\n",
       "      <td>73.842223</td>\n",
       "      <td>[{'label': 'display', 'lat': 18.51623735504808...</td>\n",
       "      <td>1414</td>\n",
       "      <td>...</td>\n",
       "      <td>Pune</td>\n",
       "      <td>Mahārāshtra</td>\n",
       "      <td>India</td>\n",
       "      <td>[3rd Floor R Deccan Mall (Jangali Maharaj Road...</td>\n",
       "      <td>[{'id': '4bf58dd8d48988d1df931735', 'name': 'B...</td>\n",
       "      <td>0</td>\n",
       "      <td>[]</td>\n",
       "      <td>Jangali Maharaj Road</td>\n",
       "      <td>NaN</td>\n",
       "      <td>NaN</td>\n",
       "    </tr>\n",
       "  </tbody>\n",
       "</table>\n",
       "<p>5 rows × 22 columns</p>\n",
       "</div>"
      ],
      "text/plain": [
       "                       referralId  reasons.count  \\\n",
       "0  e-0-4feebcafe4b0da11fdbe582b-0              0   \n",
       "1  e-0-509e80b6e4b04eb23d1ec2e2-1              0   \n",
       "2  e-0-4b9b583cf964a520aa0136e3-2              0   \n",
       "3  e-0-4de24c587d8b2547eaffe58b-3              0   \n",
       "4  e-0-4f016c4629c201c6fec99a78-4              0   \n",
       "\n",
       "                                       reasons.items  \\\n",
       "0  [{'summary': 'This spot is popular', 'type': '...   \n",
       "1  [{'summary': 'This spot is popular', 'type': '...   \n",
       "2  [{'summary': 'This spot is popular', 'type': '...   \n",
       "3  [{'summary': 'This spot is popular', 'type': '...   \n",
       "4  [{'summary': 'This spot is popular', 'type': '...   \n",
       "\n",
       "                   venue.id       venue.name  \\\n",
       "0  4feebcafe4b0da11fdbe582b  Mad Over Donuts   \n",
       "1  509e80b6e4b04eb23d1ec2e2       Le Plaisir   \n",
       "2  4b9b583cf964a520aa0136e3    Café GoodLuck   \n",
       "3  4de24c587d8b2547eaffe58b      Tilak Hotel   \n",
       "4  4f016c4629c201c6fec99a78  Barbeque Nation   \n",
       "\n",
       "                              venue.location.address  venue.location.lat  \\\n",
       "0                        Near Sambhaji Park, JM Road           18.519335   \n",
       "1  Shop No. 4B, Lane 6 Intersection, Off Bhandark...           18.514205   \n",
       "2                             759/75, GoodLuck Chowk           18.517388   \n",
       "3                                      Sadashiv Peth           18.509603   \n",
       "4                            3rd Floor R Deccan Mall           18.516237   \n",
       "\n",
       "   venue.location.lng                      venue.location.labeledLatLngs  \\\n",
       "0           73.845320  [{'label': 'display', 'lat': 18.51933511140425...   \n",
       "1           73.838551  [{'label': 'display', 'lat': 18.51420497479481...   \n",
       "2           73.841485  [{'label': 'display', 'lat': 18.5173883002662,...   \n",
       "3           73.846883  [{'label': 'display', 'lat': 18.50960261815985...   \n",
       "4           73.842223  [{'label': 'display', 'lat': 18.51623735504808...   \n",
       "\n",
       "   venue.location.distance  ... venue.location.city venue.location.state  \\\n",
       "0                      991  ...                Pune          Mahārāshtra   \n",
       "1                     1861  ...                Pune          Mahārāshtra   \n",
       "2                     1440  ...                Pune          Mahārāshtra   \n",
       "3                     1540  ...                Pune          Mahārāshtra   \n",
       "4                     1414  ...                Pune          Mahārāshtra   \n",
       "\n",
       "  venue.location.country                    venue.location.formattedAddress  \\\n",
       "0                  India  [Near Sambhaji Park, JM Road, Pune 411004, Mah...   \n",
       "1                  India  [Shop No. 4B, Lane 6 Intersection, Off Bhandar...   \n",
       "2                  India  [759/75, GoodLuck Chowk (Corner of FC Road and...   \n",
       "3                  India  [Sadashiv Peth (Tilak road), Pune 411030, Mahā...   \n",
       "4                  India  [3rd Floor R Deccan Mall (Jangali Maharaj Road...   \n",
       "\n",
       "                                    venue.categories venue.photos.count  \\\n",
       "0  [{'id': '4bf58dd8d48988d148941735', 'name': 'D...                  0   \n",
       "1  [{'id': '52e81612bcbc57f1066b79f1', 'name': 'B...                  0   \n",
       "2  [{'id': '4bf58dd8d48988d16d941735', 'name': 'C...                  0   \n",
       "3  [{'id': '4bf58dd8d48988d1c7941735', 'name': 'S...                  0   \n",
       "4  [{'id': '4bf58dd8d48988d1df931735', 'name': 'B...                  0   \n",
       "\n",
       "  venue.photos.groups              venue.location.crossStreet  \\\n",
       "0                  []                                     NaN   \n",
       "1                  []  Opp. Kelkar Eye Hospital, Prabhat Road   \n",
       "2                  []   Corner of FC Road and Bhandarkar Road   \n",
       "3                  []                              Tilak road   \n",
       "4                  []                    Jangali Maharaj Road   \n",
       "\n",
       "  venue.venuePage.id venue.location.neighborhood  \n",
       "0                NaN                         NaN  \n",
       "1           52549645                         NaN  \n",
       "2                NaN                         NaN  \n",
       "3                NaN                         NaN  \n",
       "4                NaN                         NaN  \n",
       "\n",
       "[5 rows x 22 columns]"
      ]
     },
     "execution_count": 6,
     "metadata": {},
     "output_type": "execute_result"
    }
   ],
   "source": [
    "# assign relevant part of JSON to venues\n",
    "venues = results['response']['groups'][0]['items']\n",
    "\n",
    "# tranform venues into a dataframe\n",
    "dataframe = json_normalize(venues)\n",
    "dataframe.head()"
   ]
  },
  {
   "cell_type": "markdown",
   "metadata": {},
   "source": [
    "We define the get_category_type method to get the correct category for each restaurant."
   ]
  },
  {
   "cell_type": "code",
   "execution_count": 7,
   "metadata": {},
   "outputs": [],
   "source": [
    "def get_category_type(row):\n",
    "    try:\n",
    "        categories_list = row['categories']\n",
    "    except:\n",
    "        categories_list = row['venue.categories']\n",
    "        \n",
    "    if len(categories_list) == 0:\n",
    "        return None\n",
    "    else:\n",
    "        return categories_list[0]['name']"
   ]
  },
  {
   "cell_type": "code",
   "execution_count": 8,
   "metadata": {},
   "outputs": [
    {
     "data": {
      "text/html": [
       "<div>\n",
       "<style scoped>\n",
       "    .dataframe tbody tr th:only-of-type {\n",
       "        vertical-align: middle;\n",
       "    }\n",
       "\n",
       "    .dataframe tbody tr th {\n",
       "        vertical-align: top;\n",
       "    }\n",
       "\n",
       "    .dataframe thead th {\n",
       "        text-align: right;\n",
       "    }\n",
       "</style>\n",
       "<table border=\"1\" class=\"dataframe\">\n",
       "  <thead>\n",
       "    <tr style=\"text-align: right;\">\n",
       "      <th></th>\n",
       "      <th>id</th>\n",
       "      <th>name</th>\n",
       "      <th>categories</th>\n",
       "      <th>lat</th>\n",
       "      <th>lng</th>\n",
       "      <th>crossStreet</th>\n",
       "    </tr>\n",
       "  </thead>\n",
       "  <tbody>\n",
       "    <tr>\n",
       "      <th>0</th>\n",
       "      <td>509e80b6e4b04eb23d1ec2e2</td>\n",
       "      <td>Le Plaisir</td>\n",
       "      <td>Bistro</td>\n",
       "      <td>18.514205</td>\n",
       "      <td>73.838551</td>\n",
       "      <td>Opp. Kelkar Eye Hospital, Prabhat Road</td>\n",
       "    </tr>\n",
       "    <tr>\n",
       "      <th>1</th>\n",
       "      <td>4b9b583cf964a520aa0136e3</td>\n",
       "      <td>Café GoodLuck</td>\n",
       "      <td>Café</td>\n",
       "      <td>18.517388</td>\n",
       "      <td>73.841485</td>\n",
       "      <td>Corner of FC Road and Bhandarkar Road</td>\n",
       "    </tr>\n",
       "    <tr>\n",
       "      <th>2</th>\n",
       "      <td>4de24c587d8b2547eaffe58b</td>\n",
       "      <td>Tilak Hotel</td>\n",
       "      <td>Snack Place</td>\n",
       "      <td>18.509603</td>\n",
       "      <td>73.846883</td>\n",
       "      <td>Tilak road</td>\n",
       "    </tr>\n",
       "    <tr>\n",
       "      <th>3</th>\n",
       "      <td>4f016c4629c201c6fec99a78</td>\n",
       "      <td>Barbeque Nation</td>\n",
       "      <td>BBQ Joint</td>\n",
       "      <td>18.516237</td>\n",
       "      <td>73.842223</td>\n",
       "      <td>Jangali Maharaj Road</td>\n",
       "    </tr>\n",
       "    <tr>\n",
       "      <th>4</th>\n",
       "      <td>4de0a8e918380dc4dd35585c</td>\n",
       "      <td>Spice Kitchen</td>\n",
       "      <td>Asian Restaurant</td>\n",
       "      <td>18.531887</td>\n",
       "      <td>73.829571</td>\n",
       "      <td>Senapati Bapat Road</td>\n",
       "    </tr>\n",
       "    <tr>\n",
       "      <th>...</th>\n",
       "      <td>...</td>\n",
       "      <td>...</td>\n",
       "      <td>...</td>\n",
       "      <td>...</td>\n",
       "      <td>...</td>\n",
       "      <td>...</td>\n",
       "    </tr>\n",
       "    <tr>\n",
       "      <th>63</th>\n",
       "      <td>4b93c4e3f964a520bc5034e3</td>\n",
       "      <td>Taareef</td>\n",
       "      <td>Indian Restaurant</td>\n",
       "      <td>18.556077</td>\n",
       "      <td>73.809120</td>\n",
       "      <td>I.t.I. Road</td>\n",
       "    </tr>\n",
       "    <tr>\n",
       "      <th>64</th>\n",
       "      <td>4c88f62594f5a09317dcd31e</td>\n",
       "      <td>Terrace Restaurant</td>\n",
       "      <td>Restaurant</td>\n",
       "      <td>18.477544</td>\n",
       "      <td>73.889783</td>\n",
       "      <td>NIBM</td>\n",
       "    </tr>\n",
       "    <tr>\n",
       "      <th>65</th>\n",
       "      <td>5999469309e2837b2f738659</td>\n",
       "      <td>Tea Villa Cafe</td>\n",
       "      <td>Café</td>\n",
       "      <td>18.562925</td>\n",
       "      <td>73.918076</td>\n",
       "      <td>Vimannagar</td>\n",
       "    </tr>\n",
       "    <tr>\n",
       "      <th>66</th>\n",
       "      <td>4d0a55daacd4a1cdfc6f8193</td>\n",
       "      <td>Richie Rich</td>\n",
       "      <td>Café</td>\n",
       "      <td>18.457362</td>\n",
       "      <td>73.852508</td>\n",
       "      <td>Katraj</td>\n",
       "    </tr>\n",
       "    <tr>\n",
       "      <th>67</th>\n",
       "      <td>51205bb2e4b0a1ec80282126</td>\n",
       "      <td>Khasbaug Misal</td>\n",
       "      <td>Breakfast Spot</td>\n",
       "      <td>18.560823</td>\n",
       "      <td>73.787599</td>\n",
       "      <td>Baner Road</td>\n",
       "    </tr>\n",
       "  </tbody>\n",
       "</table>\n",
       "<p>68 rows × 6 columns</p>\n",
       "</div>"
      ],
      "text/plain": [
       "                          id                name         categories  \\\n",
       "0   509e80b6e4b04eb23d1ec2e2          Le Plaisir             Bistro   \n",
       "1   4b9b583cf964a520aa0136e3       Café GoodLuck               Café   \n",
       "2   4de24c587d8b2547eaffe58b         Tilak Hotel        Snack Place   \n",
       "3   4f016c4629c201c6fec99a78     Barbeque Nation          BBQ Joint   \n",
       "4   4de0a8e918380dc4dd35585c       Spice Kitchen   Asian Restaurant   \n",
       "..                       ...                 ...                ...   \n",
       "63  4b93c4e3f964a520bc5034e3             Taareef  Indian Restaurant   \n",
       "64  4c88f62594f5a09317dcd31e  Terrace Restaurant         Restaurant   \n",
       "65  5999469309e2837b2f738659      Tea Villa Cafe               Café   \n",
       "66  4d0a55daacd4a1cdfc6f8193         Richie Rich               Café   \n",
       "67  51205bb2e4b0a1ec80282126      Khasbaug Misal     Breakfast Spot   \n",
       "\n",
       "          lat        lng                             crossStreet  \n",
       "0   18.514205  73.838551  Opp. Kelkar Eye Hospital, Prabhat Road  \n",
       "1   18.517388  73.841485   Corner of FC Road and Bhandarkar Road  \n",
       "2   18.509603  73.846883                              Tilak road  \n",
       "3   18.516237  73.842223                    Jangali Maharaj Road  \n",
       "4   18.531887  73.829571                     Senapati Bapat Road  \n",
       "..        ...        ...                                     ...  \n",
       "63  18.556077  73.809120                             I.t.I. Road  \n",
       "64  18.477544  73.889783                                    NIBM  \n",
       "65  18.562925  73.918076                              Vimannagar  \n",
       "66  18.457362  73.852508                                  Katraj  \n",
       "67  18.560823  73.787599                              Baner Road  \n",
       "\n",
       "[68 rows x 6 columns]"
      ]
     },
     "execution_count": 8,
     "metadata": {},
     "output_type": "execute_result"
    }
   ],
   "source": [
    "filtered_columns = ['venue.id','venue.name', 'venue.categories', 'venue.location.lat', 'venue.location.lng','venue.location.crossStreet']\n",
    "dataframe_filtered = dataframe.loc[:, filtered_columns]    \n",
    "# filter the category for each row\n",
    "dataframe_filtered['venue.categories'] = dataframe_filtered.apply(get_category_type, axis=1)\n",
    "\n",
    "# clean column names by keeping only last term\n",
    "dataframe_filtered.columns = [column.split('.')[-1] for column in dataframe_filtered.columns]\n",
    "\n",
    "dataframe_filtered.dropna(inplace = True) #DATA Cleaning: By removing the rows with 'NaN' column values\n",
    "dataframe_filtered = dataframe_filtered.reset_index(drop = True)\n",
    "dataframe_filtered"
   ]
  },
  {
   "cell_type": "markdown",
   "metadata": {},
   "source": [
    "Now from this /explore API we have got the Information regarding name,category and location\n",
    "But still we don't have the **Rating** and **Price range** information, we will obtain this information as well using the **Foursquare** API"
   ]
  },
  {
   "cell_type": "code",
   "execution_count": 9,
   "metadata": {},
   "outputs": [
    {
     "data": {
      "text/html": [
       "<div>\n",
       "<style scoped>\n",
       "    .dataframe tbody tr th:only-of-type {\n",
       "        vertical-align: middle;\n",
       "    }\n",
       "\n",
       "    .dataframe tbody tr th {\n",
       "        vertical-align: top;\n",
       "    }\n",
       "\n",
       "    .dataframe thead th {\n",
       "        text-align: right;\n",
       "    }\n",
       "</style>\n",
       "<table border=\"1\" class=\"dataframe\">\n",
       "  <thead>\n",
       "    <tr style=\"text-align: right;\">\n",
       "      <th></th>\n",
       "      <th>id</th>\n",
       "      <th>Rating</th>\n",
       "      <th>Price_Tier</th>\n",
       "      <th>Price_Range</th>\n",
       "    </tr>\n",
       "  </thead>\n",
       "  <tbody>\n",
       "    <tr>\n",
       "      <th>1</th>\n",
       "      <td>4b9b583cf964a520aa0136e3</td>\n",
       "      <td>8.5</td>\n",
       "      <td>1</td>\n",
       "      <td>Cheap</td>\n",
       "    </tr>\n",
       "    <tr>\n",
       "      <th>2</th>\n",
       "      <td>4de24c587d8b2547eaffe58b</td>\n",
       "      <td>8.4</td>\n",
       "      <td>1</td>\n",
       "      <td>Cheap</td>\n",
       "    </tr>\n",
       "    <tr>\n",
       "      <th>3</th>\n",
       "      <td>4f016c4629c201c6fec99a78</td>\n",
       "      <td>8.3</td>\n",
       "      <td>2</td>\n",
       "      <td>Moderate</td>\n",
       "    </tr>\n",
       "    <tr>\n",
       "      <th>4</th>\n",
       "      <td>4de0a8e918380dc4dd35585c</td>\n",
       "      <td>8.6</td>\n",
       "      <td>2</td>\n",
       "      <td>Moderate</td>\n",
       "    </tr>\n",
       "    <tr>\n",
       "      <th>5</th>\n",
       "      <td>4b5ffe7df964a520c9d229e3</td>\n",
       "      <td>8.2</td>\n",
       "      <td>2</td>\n",
       "      <td>Moderate</td>\n",
       "    </tr>\n",
       "    <tr>\n",
       "      <th>...</th>\n",
       "      <td>...</td>\n",
       "      <td>...</td>\n",
       "      <td>...</td>\n",
       "      <td>...</td>\n",
       "    </tr>\n",
       "    <tr>\n",
       "      <th>63</th>\n",
       "      <td>4b93c4e3f964a520bc5034e3</td>\n",
       "      <td>7.5</td>\n",
       "      <td>2</td>\n",
       "      <td>Moderate</td>\n",
       "    </tr>\n",
       "    <tr>\n",
       "      <th>64</th>\n",
       "      <td>4c88f62594f5a09317dcd31e</td>\n",
       "      <td>7.5</td>\n",
       "      <td>2</td>\n",
       "      <td>Moderate</td>\n",
       "    </tr>\n",
       "    <tr>\n",
       "      <th>65</th>\n",
       "      <td>5999469309e2837b2f738659</td>\n",
       "      <td>7.7</td>\n",
       "      <td>1</td>\n",
       "      <td>Cheap</td>\n",
       "    </tr>\n",
       "    <tr>\n",
       "      <th>66</th>\n",
       "      <td>4d0a55daacd4a1cdfc6f8193</td>\n",
       "      <td>7.6</td>\n",
       "      <td>1</td>\n",
       "      <td>Cheap</td>\n",
       "    </tr>\n",
       "    <tr>\n",
       "      <th>67</th>\n",
       "      <td>51205bb2e4b0a1ec80282126</td>\n",
       "      <td>7.7</td>\n",
       "      <td>1</td>\n",
       "      <td>Cheap</td>\n",
       "    </tr>\n",
       "  </tbody>\n",
       "</table>\n",
       "<p>64 rows × 4 columns</p>\n",
       "</div>"
      ],
      "text/plain": [
       "                          id  Rating Price_Tier Price_Range\n",
       "1   4b9b583cf964a520aa0136e3     8.5          1       Cheap\n",
       "2   4de24c587d8b2547eaffe58b     8.4          1       Cheap\n",
       "3   4f016c4629c201c6fec99a78     8.3          2    Moderate\n",
       "4   4de0a8e918380dc4dd35585c     8.6          2    Moderate\n",
       "5   4b5ffe7df964a520c9d229e3     8.2          2    Moderate\n",
       "..                       ...     ...        ...         ...\n",
       "63  4b93c4e3f964a520bc5034e3     7.5          2    Moderate\n",
       "64  4c88f62594f5a09317dcd31e     7.5          2    Moderate\n",
       "65  5999469309e2837b2f738659     7.7          1       Cheap\n",
       "66  4d0a55daacd4a1cdfc6f8193     7.6          1       Cheap\n",
       "67  51205bb2e4b0a1ec80282126     7.7          1       Cheap\n",
       "\n",
       "[64 rows x 4 columns]"
      ]
     },
     "execution_count": 9,
     "metadata": {},
     "output_type": "execute_result"
    }
   ],
   "source": [
    "ratePriceTable = []\n",
    "for index, row in dataframe_filtered.iterrows():\n",
    "    ratingAndPrice = []\n",
    "    venue_id = dataframe_filtered.iloc[index,0]\n",
    "    url = 'https://api.foursquare.com/v2/venues/{}?client_id={}&client_secret={}&v={}'.format(venue_id, CLIENT_ID, CLIENT_SECRET, VERSION)\n",
    "    result = requests.get(url).json()\n",
    "    ratingAndPrice.append(venue_id)\n",
    "    ratingAndPrice.append(result['response']['venue']['rating'])\n",
    "    try:\n",
    "        ratingAndPrice.append(result['response']['venue']['price']['tier'])\n",
    "        ratingAndPrice.append(result['response']['venue']['price']['message'])\n",
    "    except: \n",
    "        ratingAndPrice.append('NaN')\n",
    "        ratingAndPrice.append('NaN')\n",
    "    ratePriceTable.append(ratingAndPrice)\n",
    "\n",
    "ratingPriceDf = pd.DataFrame(ratePriceTable, \n",
    "                                  columns = ['id','Rating', 'Price_Tier', \n",
    "                                             'Price_Range'])\n",
    "ratingPriceDf = ratingPriceDf[ratingPriceDf['Price_Tier'] != \"NaN\"]\n",
    "ratingPriceDf = ratingPriceDf[ratingPriceDf['Price_Range'] != \"NaN\"]\n",
    "ratingPriceDf.reset_index(drop = True)\n",
    "ratingPriceDf"
   ]
  },
  {
   "cell_type": "markdown",
   "metadata": {},
   "source": [
    "Now we will merge these two Dataframes "
   ]
  },
  {
   "cell_type": "code",
   "execution_count": 10,
   "metadata": {},
   "outputs": [
    {
     "data": {
      "text/html": [
       "<div>\n",
       "<style scoped>\n",
       "    .dataframe tbody tr th:only-of-type {\n",
       "        vertical-align: middle;\n",
       "    }\n",
       "\n",
       "    .dataframe tbody tr th {\n",
       "        vertical-align: top;\n",
       "    }\n",
       "\n",
       "    .dataframe thead th {\n",
       "        text-align: right;\n",
       "    }\n",
       "</style>\n",
       "<table border=\"1\" class=\"dataframe\">\n",
       "  <thead>\n",
       "    <tr style=\"text-align: right;\">\n",
       "      <th></th>\n",
       "      <th>id</th>\n",
       "      <th>Rating</th>\n",
       "      <th>Price_Tier</th>\n",
       "      <th>Price_Range</th>\n",
       "      <th>name</th>\n",
       "      <th>categories</th>\n",
       "      <th>lat</th>\n",
       "      <th>lng</th>\n",
       "      <th>crossStreet</th>\n",
       "    </tr>\n",
       "  </thead>\n",
       "  <tbody>\n",
       "    <tr>\n",
       "      <th>0</th>\n",
       "      <td>4b9b583cf964a520aa0136e3</td>\n",
       "      <td>8.5</td>\n",
       "      <td>1</td>\n",
       "      <td>Cheap</td>\n",
       "      <td>Café GoodLuck</td>\n",
       "      <td>Café</td>\n",
       "      <td>18.517388</td>\n",
       "      <td>73.841485</td>\n",
       "      <td>Corner of FC Road and Bhandarkar Road</td>\n",
       "    </tr>\n",
       "    <tr>\n",
       "      <th>1</th>\n",
       "      <td>4de24c587d8b2547eaffe58b</td>\n",
       "      <td>8.4</td>\n",
       "      <td>1</td>\n",
       "      <td>Cheap</td>\n",
       "      <td>Tilak Hotel</td>\n",
       "      <td>Snack Place</td>\n",
       "      <td>18.509603</td>\n",
       "      <td>73.846883</td>\n",
       "      <td>Tilak road</td>\n",
       "    </tr>\n",
       "    <tr>\n",
       "      <th>2</th>\n",
       "      <td>4f016c4629c201c6fec99a78</td>\n",
       "      <td>8.3</td>\n",
       "      <td>2</td>\n",
       "      <td>Moderate</td>\n",
       "      <td>Barbeque Nation</td>\n",
       "      <td>BBQ Joint</td>\n",
       "      <td>18.516237</td>\n",
       "      <td>73.842223</td>\n",
       "      <td>Jangali Maharaj Road</td>\n",
       "    </tr>\n",
       "    <tr>\n",
       "      <th>3</th>\n",
       "      <td>4de0a8e918380dc4dd35585c</td>\n",
       "      <td>8.6</td>\n",
       "      <td>2</td>\n",
       "      <td>Moderate</td>\n",
       "      <td>Spice Kitchen</td>\n",
       "      <td>Asian Restaurant</td>\n",
       "      <td>18.531887</td>\n",
       "      <td>73.829571</td>\n",
       "      <td>Senapati Bapat Road</td>\n",
       "    </tr>\n",
       "    <tr>\n",
       "      <th>4</th>\n",
       "      <td>4b5ffe7df964a520c9d229e3</td>\n",
       "      <td>8.2</td>\n",
       "      <td>2</td>\n",
       "      <td>Moderate</td>\n",
       "      <td>Hotel Roopali</td>\n",
       "      <td>Indian Restaurant</td>\n",
       "      <td>18.519343</td>\n",
       "      <td>73.841334</td>\n",
       "      <td>Sudhabhau Kelkar Road</td>\n",
       "    </tr>\n",
       "    <tr>\n",
       "      <th>...</th>\n",
       "      <td>...</td>\n",
       "      <td>...</td>\n",
       "      <td>...</td>\n",
       "      <td>...</td>\n",
       "      <td>...</td>\n",
       "      <td>...</td>\n",
       "      <td>...</td>\n",
       "      <td>...</td>\n",
       "      <td>...</td>\n",
       "    </tr>\n",
       "    <tr>\n",
       "      <th>59</th>\n",
       "      <td>4b93c4e3f964a520bc5034e3</td>\n",
       "      <td>7.5</td>\n",
       "      <td>2</td>\n",
       "      <td>Moderate</td>\n",
       "      <td>Taareef</td>\n",
       "      <td>Indian Restaurant</td>\n",
       "      <td>18.556077</td>\n",
       "      <td>73.809120</td>\n",
       "      <td>I.t.I. Road</td>\n",
       "    </tr>\n",
       "    <tr>\n",
       "      <th>60</th>\n",
       "      <td>4c88f62594f5a09317dcd31e</td>\n",
       "      <td>7.5</td>\n",
       "      <td>2</td>\n",
       "      <td>Moderate</td>\n",
       "      <td>Terrace Restaurant</td>\n",
       "      <td>Restaurant</td>\n",
       "      <td>18.477544</td>\n",
       "      <td>73.889783</td>\n",
       "      <td>NIBM</td>\n",
       "    </tr>\n",
       "    <tr>\n",
       "      <th>61</th>\n",
       "      <td>5999469309e2837b2f738659</td>\n",
       "      <td>7.7</td>\n",
       "      <td>1</td>\n",
       "      <td>Cheap</td>\n",
       "      <td>Tea Villa Cafe</td>\n",
       "      <td>Café</td>\n",
       "      <td>18.562925</td>\n",
       "      <td>73.918076</td>\n",
       "      <td>Vimannagar</td>\n",
       "    </tr>\n",
       "    <tr>\n",
       "      <th>62</th>\n",
       "      <td>4d0a55daacd4a1cdfc6f8193</td>\n",
       "      <td>7.6</td>\n",
       "      <td>1</td>\n",
       "      <td>Cheap</td>\n",
       "      <td>Richie Rich</td>\n",
       "      <td>Café</td>\n",
       "      <td>18.457362</td>\n",
       "      <td>73.852508</td>\n",
       "      <td>Katraj</td>\n",
       "    </tr>\n",
       "    <tr>\n",
       "      <th>63</th>\n",
       "      <td>51205bb2e4b0a1ec80282126</td>\n",
       "      <td>7.7</td>\n",
       "      <td>1</td>\n",
       "      <td>Cheap</td>\n",
       "      <td>Khasbaug Misal</td>\n",
       "      <td>Breakfast Spot</td>\n",
       "      <td>18.560823</td>\n",
       "      <td>73.787599</td>\n",
       "      <td>Baner Road</td>\n",
       "    </tr>\n",
       "  </tbody>\n",
       "</table>\n",
       "<p>64 rows × 9 columns</p>\n",
       "</div>"
      ],
      "text/plain": [
       "                          id  Rating Price_Tier Price_Range  \\\n",
       "0   4b9b583cf964a520aa0136e3     8.5          1       Cheap   \n",
       "1   4de24c587d8b2547eaffe58b     8.4          1       Cheap   \n",
       "2   4f016c4629c201c6fec99a78     8.3          2    Moderate   \n",
       "3   4de0a8e918380dc4dd35585c     8.6          2    Moderate   \n",
       "4   4b5ffe7df964a520c9d229e3     8.2          2    Moderate   \n",
       "..                       ...     ...        ...         ...   \n",
       "59  4b93c4e3f964a520bc5034e3     7.5          2    Moderate   \n",
       "60  4c88f62594f5a09317dcd31e     7.5          2    Moderate   \n",
       "61  5999469309e2837b2f738659     7.7          1       Cheap   \n",
       "62  4d0a55daacd4a1cdfc6f8193     7.6          1       Cheap   \n",
       "63  51205bb2e4b0a1ec80282126     7.7          1       Cheap   \n",
       "\n",
       "                  name         categories        lat        lng  \\\n",
       "0        Café GoodLuck               Café  18.517388  73.841485   \n",
       "1          Tilak Hotel        Snack Place  18.509603  73.846883   \n",
       "2      Barbeque Nation          BBQ Joint  18.516237  73.842223   \n",
       "3        Spice Kitchen   Asian Restaurant  18.531887  73.829571   \n",
       "4        Hotel Roopali  Indian Restaurant  18.519343  73.841334   \n",
       "..                 ...                ...        ...        ...   \n",
       "59             Taareef  Indian Restaurant  18.556077  73.809120   \n",
       "60  Terrace Restaurant         Restaurant  18.477544  73.889783   \n",
       "61      Tea Villa Cafe               Café  18.562925  73.918076   \n",
       "62         Richie Rich               Café  18.457362  73.852508   \n",
       "63      Khasbaug Misal     Breakfast Spot  18.560823  73.787599   \n",
       "\n",
       "                              crossStreet  \n",
       "0   Corner of FC Road and Bhandarkar Road  \n",
       "1                              Tilak road  \n",
       "2                    Jangali Maharaj Road  \n",
       "3                     Senapati Bapat Road  \n",
       "4                   Sudhabhau Kelkar Road  \n",
       "..                                    ...  \n",
       "59                            I.t.I. Road  \n",
       "60                                   NIBM  \n",
       "61                             Vimannagar  \n",
       "62                                 Katraj  \n",
       "63                             Baner Road  \n",
       "\n",
       "[64 rows x 9 columns]"
      ]
     },
     "execution_count": 10,
     "metadata": {},
     "output_type": "execute_result"
    }
   ],
   "source": [
    "mergedDf = pd.merge(ratingPriceDf,dataframe_filtered,how='right',on='id')\n",
    "mergedDf.dropna(inplace = True)\n",
    "mergedDf.reset_index(drop = True)"
   ]
  },
  {
   "cell_type": "markdown",
   "metadata": {},
   "source": [
    "Looking good. So now after Data cleaning and processing we have the **64** restaurants in area with the required information\n",
    "\n",
    "This concludes the data gathering phase - we're now ready to use this data for analysis to produce the report "
   ]
  },
  {
   "cell_type": "code",
   "execution_count": 11,
   "metadata": {},
   "outputs": [],
   "source": [
    "mergedDf.to_csv('dataFrame.csv')"
   ]
  },
  {
   "cell_type": "markdown",
   "metadata": {},
   "source": [
    "## Methodology <a name=\"methodology\"></a>"
   ]
  },
  {
   "cell_type": "markdown",
   "metadata": {},
   "source": [
    "In this project our objective is to explore and group the restaurants in the city of Pune in few categories based on the Ratings and Price range of the Restaurants.\n",
    "\n",
    "In first step we have collected the required **data: location, type (category), rating, price range of every restaurant within 20km from Pune center** by using only the Foursquare API\n",
    "\n",
    "In the Second step, we'll **analyse** the data that we created based on the ratings and price of each restaurants. We'll analyze the restaurants based on their **Category distribution** and also analyze restaurants based on their **Price range**\n",
    "\n",
    "Lastly in the third and final step, we'll **cluster the restaurants based on the available information of each**. This will allow us to clearly identify which restaurants can be recommended and with what features."
   ]
  },
  {
   "cell_type": "markdown",
   "metadata": {},
   "source": [
    "## Analysis <a name=\"analysis\"></a>"
   ]
  },
  {
   "cell_type": "markdown",
   "metadata": {},
   "source": [
    "We will perform some basic explanatory data analysis and derive some additional info from our raw data."
   ]
  },
  {
   "cell_type": "markdown",
   "metadata": {},
   "source": [
    "Let's have look at the selected restaurants on the Pune city map"
   ]
  },
  {
   "cell_type": "code",
   "execution_count": 12,
   "metadata": {},
   "outputs": [
    {
     "data": {
      "text/html": [
       "<div style=\"width:100%;\"><div style=\"position:relative;width:100%;height:0;padding-bottom:60%;\"><iframe src=\"about:blank\" style=\"position:absolute;width:100%;height:100%;left:0;top:0;border:none !important;\" data-html=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 onload=\"this.contentDocument.open();this.contentDocument.write(atob(this.getAttribute('data-html')));this.contentDocument.close();\" allowfullscreen webkitallowfullscreen mozallowfullscreen></iframe></div></div>"
      ],
      "text/plain": [
       "<folium.folium.Map at 0x7f8d68710fd0>"
      ]
     },
     "execution_count": 12,
     "metadata": {},
     "output_type": "execute_result"
    }
   ],
   "source": [
    "#Restaurants on map\n",
    "latitude = location.latitude\n",
    "longitude = location.longitude\n",
    "pune_map = folium.Map(location = [latitude, longitude], zoom_start = 13)\n",
    "\n",
    "for name, latitude, longitude in zip(mergedDf['name'], mergedDf['lat'], mergedDf['lng']):\n",
    "    label = '{}'.format(name)\n",
    "    label = folium.Popup(label, parse_html = True)\n",
    "    folium.CircleMarker(\n",
    "        [latitude, longitude],\n",
    "        radius = 5,\n",
    "        popup = label,\n",
    "        color = 'green',\n",
    "        fill = True,\n",
    "        fill_color = '#3186cc',\n",
    "        fill_opacity = 0.7,\n",
    "        parse_html = False).add_to(pune_map)  \n",
    "\n",
    "pune_map.save(\"Restaurant map.html\")\n",
    "pune_map"
   ]
  },
  {
   "cell_type": "markdown",
   "metadata": {},
   "source": [
    "There are restaurants of various categories in Pune. Let's plot it and check which is the **most popular category**"
   ]
  },
  {
   "cell_type": "code",
   "execution_count": 13,
   "metadata": {},
   "outputs": [
    {
     "data": {
      "text/plain": [
       "<BarContainer object of 21 artists>"
      ]
     },
     "execution_count": 13,
     "metadata": {},
     "output_type": "execute_result"
    },
    {
     "data": {
      "image/png": "iVBORw0KGgoAAAANSUhEUgAABJEAAAL8CAYAAABQ9CQMAAAABHNCSVQICAgIfAhkiAAAAAlwSFlzAAALEgAACxIB0t1+/AAAADh0RVh0U29mdHdhcmUAbWF0cGxvdGxpYiB2ZXJzaW9uMy4xLjEsIGh0dHA6Ly9tYXRwbG90bGliLm9yZy8QZhcZAAAgAElEQVR4nOzdeZRsd1nv4e/LORmBYIYTCIRwiGIQRRlCBIGIIJcwJaigzITBKIgyKgIXCMIF0RBERoMyhhVUZsIskiijJAGZQgBlCgkkIQwJQxj83T/2bqkU3f3rPqe7q/rwPGvVqq5du6rfXV0d+nzYe1e11gIAAAAAy7nCrAcAAAAAYP6JSAAAAAB0iUgAAAAAdIlIAAAAAHSJSAAAAAB0iUgAAAAAdIlIALAGqurYqmpLXH5zg2dpVXX8Gj3X9vH5jl2L55tHVXWrqjq+qvxdtBOq6opV9diqOquqLqmq71XVOVX13Kr6uTmY79iqesAK190+9Tv8/ar6dFU9q6r2nVjvpVX1+R2YxXsOgE1p66wHAIBdzN2SnDu17JOzGIQVu1WSJyV5apL/me0om1NVHZTkX5JcPclzk7wnyfeTXC/JA5LcPMkNZzbg4NgMf/u+eBWPeXqSNybZI8M2/N8kN6yq32ittZ2Y5VbxngNgExKRAGBtfaS19tlZD8Gupar2aK1dNus5lvGKJAclOaK19pmJ5e+uqucnOWY2Y+20/26tfWD8+vSq2i3J8RmC2FkzmwoAZsQutACwgarqsKp6XVV9o6q+W1UfqKqjFlnvqKp6/7jON6vq9VV12NQ6W6rqqVV1flV9p6pOq6pfXOEcC4ffHTk+96VV9bWqel5V7dV57E2q6tVVde443zlV9bTFHldVv1VV7x2f/1tV9R9VdfTE/VvHQ6A+VVWXVdV5VfXMqtpzBduwtaoeU1WfHA+durCq3lZV1x3v33M8/Ojj4/f/SlW9aeH+cZ3jM+wRkiQ/WDh8aeL+vavqGVX1ufGQps9V1eOnD0OqqhtV1b+Pc3ypqh5XVU+efK5xvX3Gw7vOG7f3nKp6RFXVxDq3Guf47ap6UVVdmOSrVXXXcfmvLPJanFZV71/mtXpLVZ25yPKDquqHVfXw8fbVquplE/OdX1WnVtWByzz3EUluk+RpUwEpSdIGr59Yf7fxffv58TX9/Hh7t0Veg1tNfa+F9+32iWWfr6qTq+ruVXV2VX27qs6oqltMvj5Jfj3JzevHh6idttQ2LeND4/WSh+eNr+nLq+qi8TX8aFXde+L+47PMew4A5pk9kQBgbW2pqsn/fW2ttR8lSVVdPcNhPpckeWiSbyb5oyRvrqo7tdbeOq53VJI3J/nXJL+X5EpJ/iLJe6rqBq21L4/PfXySxyU5Mck7khye4dCb1Tg5yT8leX6SI5I8MckVMxz6s5RDknwkyUvHbfnF8XGHJrn7wkpV9cdJ/jbJ65PcL8mlSW6UZPvU979zkmckeV+SX0jylHGd3+nM/qokd0nyNxkOpdozyZEZ9oj5VIZDkK6c4ZCh85Psl+QhST5QVddtrX0lyd8nOTjJA5PcIsmPJubfmuTtGQ7JekqSjyW5aZInjM/1qHG9A5K8K8l5Se6b4TCuR0xtZ8bw9ObxNXji+Hx3zPDz25bhZznpOUnemuQ+47adOn6PPxi3Y+F5D8sQSO6/zGv18iSnVNX1WmuTh1fec7w+Zbx+RZJrJfnTJF9KctUMgWjvZZ574ZxfK33vvSzJ7yZ5Wobfh5tlOEzs0Il5VuuWSQ7L8LP5Xoaf16lVtb219o0Mr9fJSbZkeP2S5Fs78H2uPV5/Y7E7q+qKSU5Psm+Gn+eXktw7ySuqau/W2klZ5j0HAHOvtebi4uLi4uKyk5cM0aUtcnnPxDonJPlhkp+bWLYlyTlJzppYdkaSzyTZOrHs2kl+kOTE8fa+GaLMC6fmeMz4fY9f4bzTj398hn/U/vx4e/u43rFLPE9l+D+l7p3h3C77j8v3yRCYXrvMDLccn/u+U8vvNS6/wTKPvfW4zp+s4me0JUMMuSTJIyaWHz8+19ap9e8zLj9ykdfo+0kOHG8/bbx98MQ6eyX56vCn1v8uu9Nir2WGqHBZkgPG27ca13vdIttwfIb4eMWJZScm+XqSvZbZ9r3Gxz19avlHkrxl4valq3lNx8e8YJx3jxWs+0uLvT8zRKSW5JenXoNbLfG+3T6x7PPj9u87sezwcb17Tiw7LRO/j505F973x43v772T3DZDjDxv4bXOEFI/P/G4hy4x978kuSDJluXecy4uLi4uLvN+cTgbAKyt30pyk4nLAyfuOzLJB9rEOZPasJfSKUluMB7qdMUMe6r8Y2vthxPrfS7JezPscZIk18+wx9A/TX3/V61y3sUef4UMeyUtapzzGVX1Xxnixw8y7MFSSa4zrvZrGfagOmmZ731UhvjymvHQtK3j3j/vGO8/cpnH/p8M/wh/0TLrpKp+t6o+WFXfyBDwvj3Oddhyj5uY7wtJ3rfIfLtl2Csp4/X7W2v/e0L11tp3M+x1NOnIDKHtlKnlJyfZPcMeOZNet8hMJ2UIGvcYt2/PDHt5vXz8nosa73tNknstHDpXVddP8isZ9lJa8KEkf1pVD6uq608eZrdGFn6mJ08tX7j969kx72+tfX3i9sfG60N28PkW/F2G9/e3M/zcP5vkqGVe6yOTfLm1dtrU8pMz7G12vZ2cBwBmSkQCgLX18dbaGROXcybu2y/DngzTvpIhwOw7XmqZ9fYbvz5ovP7q1DrTt3uWevw1lnnMS5L8YYZD1W6bIZb90XjfwrmM9h+vpz+pbtKBGeLJpRn+ob5wuWDqORazf5KLlwsnVXXnJP+Y5OwMh0n96jjrhRNzLufADId2/WDq8h9T8x00MfOk6dd2v3Hm6RNkf2Xi/kk/8R5orZ2X5A0ZXv9k+DTA/TLEjp6XJ7lmhr18kmFPq0vG51vwexkOS/uzJB9N8uWqeuL0OaCmfGm8vtYKZljYxultW+o1WKmLJ29MvMYr+Tkv56kZ3jO/nORnWmu3bK19dJn1l/sdX7gfADYt50QCgI1zcZKrLbL8ahn2qrk4w54qbZn1vjZ+vfAP1asm+cTEOldd5UxLPf7Li6y7sOfLMRkOR3r2xPLrT6160Xh9jSQfX+J7fy3D+WtuucT95y09di5Ksl9V7bVMSLp7ks+21o6dmHO3rPwf8l9L8rkM5+9ZzOfH6/MzBKdp0z+Li8eZd2+tfX9i+cLP+mtT6y91suXnJ3lXVd04w/l9/r1d/jxHSzk9yReT3LuqTs+wN9OrJ1+/1toFGYLgH43nWrpfkidnCG8vWOJ5/yXJ/8twbqtndmZYiD1XS/JfE8unX4Pvjde7Tz1+ubC4Hr7QWjtjFetfnMX3clvqZwwAm4o9kQBg45ye5KZTnyy1JcPeHx9urV3SWvt2kjOT3G28b2G9a2U4ROz0cdFHMxxiMx047p7VWezx/5Mf720zbY8M5xb6wdTyY6duvy/DHkbHLfO935ZhT5GrTO29tXBZLiK9I8MeWw9aZp29MxzCNuk+4/yTFvZamf50ubdl2HPn0iXmWwhlH0hys6o6eOGBNXxS3R2nnu/0DH973W1q+b0yHNb3gaxAa+1fM+xddWKSmyd54Qof15K8Msldk9whw8mdX77M+ue01h6X4XxDv7TMev+R4cTij6uqRT+1rKqOGb9ceP9Ov0/vNV7/23j9hfF6+vveYak5VuCy/OTPeK2dnuTgqrr51PJ7Zthb7eyJWbIB8wDAmrInEgBsnGdliC3vrKonZfh0qIck+flcPjg8IcP5dE6tqudnOIfPkzOcGPmZSdJa+0ZVPSvJ46vqkgxRZfocTCtxh6r66/HxR2T46PGXt9Y+vdjKrbVvVtUHkjyqqs7PsEfQAzJ1+Ftr7ZKqemyS51TVazLEi0uS3CDJ91prz2mtnVZVpyR5dVWdmCFc/U+GkxrfIcljlpnj3ePznlhV18zwSXa7ZTgnzZvHc9K8Lcldxtfp1CQ3TvIn+clP1lrYi+dRVfXWJD8a9z55ZYZPPHtXVT0zyX9m2DPmZ5McneQurbXvZIg5D07y9qp6coZA8MjxenJvordm+DSyF1bVtgx7gN0hQwh7+kSUWokXJnl2htf/Nat43MuTPHZ8/Jfy46iTqrpKhr2KXpnh0+1+kGGvs33z4/NULeU+42M/VFXPybCd309y3Qzvj92SvKG19onxZ378eH6p92U4F9QTkpyycKhYa+38cW+px1bVRRkCzL0zvPY76pNJHlJVv5dhL6hLpg43XQsvTfKwJK+tqsdnOJzzXhkO+/yD8RxoC7MkP/meA4D5Nusze7u4uLi4uOwKl/z4U6N+rrPeYRk+8v6bGQ7Z+UCGE/VOr3dUkvcn+e647huSHDa1zpYM52z5yrjeaRlO3LuaT2c7cnzuSzMcivO8THzKVxb5dLZx2VszRKELkjw3QwRb7FOp7prkg+N83xq/vtPE/VfI8I/u/xxfj2+OX/9Vhj2UltuGrRk+Ke3TGYLFhUnesvA6jc/91AyHxX0nQzC5YYbD0F469To+b9yW/8nlP1FtzwyfpPWpDFHo4gwnnz4+l//0vBtlCCffy3Ao4BMyRJ6vT828z/h6nT/O/Okkj0hSE+vcanwtf3OZbT9oXOevd+C9+qHxsU+bWr5HhnMrfWJ8P3xrXPeeK3zeK2X4WPsPZ9hL7rIMnzz47CSHTqy32/hz+UKGUPWF8fZuU893cJI3ZYh+X8nwKXgPyuKfznbyIvNc7vcgwyFlb8nwvm1JTltmW7aP6zyos80vzcSns038bF6RIfBdlmGvwXsv8ru76HvOxcXFxcVlni/V2lKH2wMAu6qqOjbDCbKv0yY+LY61MR6KeFaSi1prt1mH5//9DMHn5/38AICN4nA2AICdVFVPyfDx71/IcPLnB2X4RK+dOYfPYt/nehkO6XpyktcLSADARhKRAAB2XkvyxCRXH7/+aIZzJr11jb/P8zOcYP19SR66xs8NALAsh7MBAAAA0HWFWQ8AAAAAwPwTkQAAAADo2rTnRDrggAPa9u3bZz0GAAAAwC7jzDPPvKi1tm2x+zZtRNq+fXvOOOOMWY8BAAAAsMuoqi8sdZ/D2QAAAADoEpEAAAAA6BKRAAAAAOgSkQAAAADoEpEAAAAA6BKRAAAAAOgSkQAAAADoEpEAAAAA6BKRAAAAAOgSkQAAAADoEpEAAAAA6BKRAAAAAOgSkQAAAADoEpEAAAAA6BKRAAAAAOgSkQAAAADoEpEAAAAA6BKRAAAAAOgSkQAAAADoEpEAAAAA6BKRAAAAAOgSkQAAAADoEpEAAAAA6BKRAAAAAOjaOusBSJ5cs55gaU9qs54AAAAAmAf2RAIAAACgS0QCAAAAoEtEAgAAAKBLRAIAAACgS0QCAAAAoEtEAgAAAKBLRAIAAACgS0QCAAAAoEtEAgAAAKBLRAIAAACgS0QCAAAAoEtEAgAAAKBLRAIAAACgS0QCAAAAoEtEAgAAAKBLRAIAAACgS0QCAAAAoEtEAgAAAKBLRAIAAACgS0QCAAAAoEtEAgAAAKBLRAIAAACgS0QCAAAAoEtEAgAAAKBLRAIAAACgS0QCAAAAoEtEAgAAAKBLRAIAAACgS0QCAAAAoEtEAgAAAKBLRAIAAACgS0QCAAAAoEtEAgAAAKBLRAIAAACgS0QCAAAAoEtEAgAAAKBLRAIAAACgS0QCAAAAoEtEAgAAAKBLRAIAAACgS0QCAAAAoEtEAgAAAKBrQyNSVb24qi6oqo9PLNuvqt5ZVZ8Zr/fdyJkAAAAA6NvoPZFemuSoqWV/nuRdrbXrJHnXeBsAAACAObKhEam19m9JLp5afEySl41fvyzJXTZyJgAAAAD65uGcSFdtrZ2fJOP1gTOeBwAAAIAp8xCRVqyqjquqM6rqjAsvvHDW4wAAAAD81JiHiPTVqjooScbrC5ZasbV2Umvt8Nba4du2bduwAQEAAAB+2s1DRHpjkvuNX98vyRtmOAsAAAAAi9jQiFRVpyR5f5LDqurcqnpgkr9Mctuq+kyS2463AQAAAJgjWzfym7XW7rHEXbfZyDkAAAAAWJ15OJwNAAAAgDknIgEAAADQJSIBAAAA0CUiAQAAANAlIgEAAADQJSIBAAAA0CUiAQAAANAlIgEAAADQJSIBAAAA0CUiAQAAANAlIgEAAADQJSIBAAAA0CUiAQAAANAlIgEAAADQJSIBAAAA0CUiAQAAANAlIgEAAADQJSIBAAAA0CUiAQAAANAlIgEAAADQJSIBAAAA0CUiAQAAANAlIgEAAADQJSIBAAAA0CUiAQAAANAlIgEAAADQJSIBAAAA0CUiAQAAANAlIgEAAADQJSIBAAAA0CUiAQAAANAlIgEAAADQJSIBAAAA0CUiAQAAANAlIgEAAADQJSIBAAAA0CUiAQAAANAlIgEAAADQJSIBAAAA0CUiAQAAANAlIgEAAADQJSIBAAAA0CUiAQAAANAlIgEAAADQJSIBAAAA0CUiAQAAANAlIgEAAADQJSIBAAAA0CUiAQAAANAlIgEAAADQJSIBAAAA0CUiAQAAANAlIgEAAADQJSIBAAAA0CUiAQAAANAlIgEAAADQJSIBAAAA0CUiAQAAANAlIgEAAADQJSIBAAAA0CUiAQAAANAlIgEAAADQJSIBAAAA0CUiAQAAANAlIgEAAADQJSIBAAAA0CUiAQAAANAlIgEAAADQJSIBAAAA0CUiAQAAANAlIgEAAADQJSIBAAAA0CUiAQAAANAlIgEAAADQJSIBAAAA0CUiAQAAANAlIgEAAADQJSIBAAAA0CUiAQAAANAlIgEAAADQJSIBAAAA0CUiAQAAANAlIgEAAADQJSIBAAAA0CUiAQAAANA1NxGpqh5RVZ+oqo9X1SlVteesZwIAAABgMBcRqaqukeRPkhzeWvulJFuS3H22UwEAAACwYC4i0mhrkr2qamuSvZOcN+N5AAAAABjNRURqrX05yQlJvpjk/CTfbK29Y7ZTAQAAALBg66wHSJKq2jfJMUmuneQbSf65qu7dWjt5ar3jkhyXJIcccsiGz8niHnxYm/UIS3rBObWi9Y45+kfrPMmOe8Mbt8x6BAAAAJiPPZGS/GaSz7XWLmyt/SDJa5P82vRKrbWTWmuHt9YO37Zt24YPCQAAAPDTal4i0heT3LSq9q6qSnKbJGfPeCYAAAAARnMRkVprH0zy6iRnJflYhrlOmulQAAAAAPyvuTgnUpK01p6U5EmzngMAAACAnzQXeyIBAAAAMN9EJAAAAAC6RCQAAAAAukQkAAAAALpEJAAAAAC6RCQAAAAAukQkAAAAALpEJAAAAAC6RCQAAAAAukQkAAAAALpEJAAAAAC6RCQAAAAAukQkAAAAALpEJAAAAAC6RCQAAAAAukQkAAAAALpEJAAAAAC6RCQAAAAAukQkAAAAALpEJAAAAAC6RCQAAAAAukQkAAAAALpEJAAAAAC6RCQAAAAAukQkAAAAALpEJAAAAAC6RCQAAAAAukQkAAAAALpEJAAAAAC6RCQAAAAAukQkAAAAALpEJAAAAAC6RCQAAAAAukQkAAAAALpEJAAAAAC6RCQAAAAAukQkAAAAALpEJAAAAAC6RCQAAAAAukQkAAAAALpEJAAAAAC6RCQAAAAAukQkAAAAALpEJAAAAAC6RCQAAAAAukQkAAAAALpEJAAAAAC6RCQAAAAAukQkAAAAALpEJAAAAAC6RCQAAAAAukQkAAAAALpEJAAAAAC6RCQAAAAAukQkAAAAALpEJAAAAAC6RCQAAAAAukQkAAAAALpEJAAAAAC6RCQAAAAAukQkAAAAALpEJAAAAAC6RCQAAAAAukQkAAAAALpEJAAAAAC6RCQAAAAAukQkAAAAALpEJAAAAAC6RCQAAAAAukQkAAAAALpEJAAAAAC6RCQAAAAAukQkAAAAALpEJAAAAAC6RCQAAAAAukQkAAAAALpEJAAAAAC6RCQAAAAAukQkAAAAALpWHJGq6r5Vtf8S9+1XVfddu7EAAAAAmCer2RPpJUl+don7rj3eDwAAAMAuaDURqZa5b/8k39rJWQAAAACYU1uXu7OqjklyzMSiJ1TVhVOr7Znklkk+tMazAQAAADAnlo1ISQ5Mcv2J2z+b5GpT63w/yTuSPHUN5wIAAABgjiwbkVprL0ryoiSpqncneXBr7VMbMRgAAAAA82PF50Rqrf3GegakqvqZqnp1VX2qqs6uqput1/cCAAAAYHV6h7NdTlVdPcmdkhyc4VxIk1pr7TE7Mcuzk7yttXbXqto9yd478VwAAAAArKEVR6Sq+q0kpyTZkuSCDOdCmtSS7FBEqqp9khyZ5Ngkaa19f5HnBwAAAGBGVrMn0tMynED72NbaxWs8x6FJLkzykqr6lSRnJnlYa+3ba/x9AAAAANgBKz4nUpJrJvnbdQhIyRCzbpTkBa21Gyb5dpI/n16pqo6rqjOq6owLL7xwHcYAAAAAYDGriUjvS3LYOs1xbpJzW2sfHG+/OkNUupzW2kmttcNba4dv27ZtnUYBAAAAYNpqDmd7ZJJXVtWlSd6Z5BvTK7TWvrMjQ7TWvlJVX6qqw1pr5yS5TZJP7shzAQAAALD2VhORPjpevyTDSbQXs2UnZvnjDJFq9yT/neT+O/FcAAAAAKyh1USkB2TpeLTTWmsfSXL4ej0/AAAAADtuxRGptfbSdZwDAAAAgDm2mhNrAwAAAPBTasV7IlXVhekcztZaO3CnJwIAAABg7qzmnEjPy09GpP2S3DrJPkn+Ya2GAgAAAGC+rOacSMcvtryqKsk/JfnhGs0EAAAAwJzZ6XMitdZakr9P8tCdHwcAAACAebRWJ9Y+NMnua/RcAAAAAMyZ1ZxY+yGLLN49yS8kuVeSf16roQAAAACYL6s5sfZzF1l2WZJzkzw/yZPXZCIAAAAA5s5qTqy9Voe+AQAAALDJCEMAAAAAdK0qIlXVoVX1gqr6WFV9ebx+flUdul4DAgAAADB7qzmx9o2TvDvJ95KcmuSrSa6a5HeS3KuqfqO1dta6TAkAAADATK3mxNonJPlwktu31r6zsLCq9k7ylvH+W6/teAAAAADMg9UcznZEkr+aDEhJMt4+IcmvruVgAAAAAMyP1USk7ybZf4n79stwmBsAAAAAu6DVRKQ3J/nLqrrF5MLx9tOTvGktBwMAAABgfqzmnEiPTPKGJKdX1YUZTqx9YIaTa783yaPWfjwAAAAA5sGKI1Jr7WtJblFVRyW5SZKDkpyf5IOttXes03wAAAAAzIFlD2erqv2r6jVVdbuFZa21t7XWntJae0hr7SnDavWaqjpw3acFAAAAYCZ650R6eJJDkyy3p9E7klw7DmcDAAAA2GX1ItLvJnlha60ttcJ4398lOWYtBwMAAABgfvQi0rWSfHIFz3N2ku07PQ0AAAAAc6kXkb6bZJ8VPM+VxnUBAAAA2AX1ItJZSY5ewfMcM64LAAAAwC6oF5Gel+SBVXW/pVaoqvsmuX+S567lYAAAAADMj63L3dlae21VPTvJS6rqoUneluSLSVqSQ5LcLsnhSZ7VWnvdeg8LAAAAwGwsG5GSpLX2qKo6LcnDkzw6yR7jXZcleW+SY1prp67bhAAAAADMXDciJUlr7U1J3lRVW5PsPy7+Wmvth+s2GQAAAABzY0URacEYjb66TrMAAAAAMKd6J9YGAAAAABEJAAAAgD4RCQAAAIAuEQkAAACALhEJAAAAgC4RCQAAAIAuEQkAAACALhEJAAAAgC4RCQAAAIAuEQkAAACALhEJAAAAgC4RCQAAAICurbMeAFgbN3n0ZbMeYUkfOmGPWY8AAADATrInEgAAAABdIhIAAAAAXSISAAAAAF0iEgAAAABdIhIAAAAAXSISAAAAAF0iEgAAAABdIhIAAAAAXSISAAAAAF0iEgAAAABdIhIAAAAAXSISAAAAAF0iEgAAAABdIhIAAAAAXSISAAAAAF0iEgAAAABdIhIAAAAAXSISAAAAAF0iEgAAAABdIhIAAAAAXSISAAAAAF0iEgAAAABdIhIAAAAAXSISAAAAAF0iEgAAAABdIhIAAAAAXSISAAAAAF0iEgAAAABdIhIAAAAAXSISAAAAAF0iEgAAAABdIhIAAAAAXSISAAAAAF0iEgAAAABdIhIAAAAAXSISAAAAAF0iEgAAAABdIhIAAAAAXSISAAAAAF0iEgAAAABdIhIAAAAAXSISAAAAAF0iEgAAAABdcxWRqmpLVX24qk6d9SwAAAAA/NhcRaQkD0ty9qyHAAAAAODy5iYiVdXBSe6Y5O9nPQsAAAAAl7d11gNM+Jskf5bkykutUFXHJTkuSQ455JANGgvYKFd/waWzHmFJ5z34SrMeAQAAYKbmYk+kqrpTkgtaa2cut15r7aTW2uGttcO3bdu2QdMBAAAAMBcRKcnNkxxdVZ9P8qokt66qk2c7EgAAAAAL5iIitdYe21o7uLW2Pcndk/xra+3eMx4LAAAAgNFcRCQAAAAA5ts8nVg7SdJaOy3JaTMeAwAAAIAJ9kQCAAAAoEtEAgAAAKBLRAIAAACgS0QCAAAAoEtEAgAAAKBLRAIAAACgS0QCAAAAoEtEAgAAAKBLRAIAAACgS0QCAAAAoEtEAgAAAKBLRAIAAACgS0QCAAAAoEtEAgAAAKBLRAIAAACgS0QCAAAAoEtEAgAAAKBLRAIAAACgS0QCAAAAoEtEAgAAAKBLRAIAAACgS0QCAAAAoEtEAgAAAKBLRAIAAACgS0QCAAAAoEtEAgAAAKBLRAIAAACgS0QCAAAAoEtEAgAAAKBLRAIAAACgS0QCAAAAoEtEAgAAAKBLRAIAAACgS0QCAAAAoEtEAgAAAKBLRAIAAACgS0QCAAAAoEtEAgAAAKBLRAIAAACgS0QCAAAAoEtEAgAAAKBr66wHANiV1FsumvUIS2p3OKC7zkFnfXkDJtkx59/oGita78bnfmadJ9lxZx58nRWtd/SlH17nSXbcG690wxWt94c/+vd1nmTHvXDLLWc9AgDApmRPJAAAAAC6RCQAAAAAukQkAAAAALpEJAAAAAC6RCQAAAAAukQkAAAAALpEJJPmejQAACAASURBVAAAAAC6RCQAAAAAukQkAAAAALpEJAAAAAC6RCQAAAAAukQkAAAAALpEJAAAAAC6RCQAAAAAukQkAAAAALpEJAAAAAC6RCQAAAAAukQkAAAAALpEJAAAAAC6RCQAAAAAukQkAAAAALpEJAAAAAC6RCQAAAAAukQkAAAAALpEJAAAAAC6RCQAAAAAukQkAAAAALpEJAAAAAC6RCQAAAAAukQkAAAAALpEJAAAAAC6RCQAAAAAukQkAAAAALpEJAAAAAC6RCQAAAAAukQkAAAAALpEJAAAAAC6RCQAAAAAukQkAAAAALpEJAAAAAC6RCQAAAAAukQkAAAAALpEJAAAAAC65iIiVdU1q+rdVXV2VX2iqh4265kAAAAA+LGtsx5g9MMkj2qtnVVVV05yZlW9s7X2yVkPBgAAAMCc7InUWju/tXbW+PUlSc5Oco3ZTgUAAADAgrmISJOqanuSGyb54GwnAQAAAGDBvBzOliSpqisleU2Sh7fWvrXI/cclOS5JDjnkkA2eDgD4afEXefOsR1jSE3PHFa130o9OWedJdtxxW+4x6xEAgB0wN3siVdVuGQLSK1trr11sndbaSa21w1trh2/btm1jBwQAAAD4KTYXEamqKsk/JDm7tXbirOcBAAAA4PLmIiIluXmS+yS5dVV9ZLzcYdZDAQAAADCYi3Mitdbek6RmPQcAAAAAi5uXPZEAAAAAmGMiEgAAAABdIhIAAAAAXSISAAAAAF0iEgAAAABdIhIAAAAAXSISAAAAAF0iEgAAAABdIhIAAAAAXSISAAAAAF0iEgAAAABdIhIAAAAAXSISAAAAAF0iEgAAAABdIhIAAAAAXSISAAAAAF0iEgAAAABdIhIAAAAAXSISAAAAAF0iEgAAAABdIhIAAAAAXSISAAAAAF0iEgAAAABdIhIAAAAAXSISAAAAAF0iEgAAAABdIhIAAAAAXSISAAAAAF0iEgAAAABdIhIAAAAAXSISAAAAAF0iEgAAAABdIhIAAAAAXSISAAAAAF0iEgAAAABdIhIAAAAAXSISAAAAAF0iEgAAAABdIhIAAAAAXSISAAAAAF0iEgAAAABdIhIAAAAAXVtnPQAAACzm1EtfMOsRlnSnKz14Reudde7T1nmSHXejgx+3ovXOP+vR6zzJjjvoRif0Vzr1/us/yI6600tWtt4L7rK+c+yMB79+Zes9+hbrO8fOOOE9K1vv6Ouu7xw7442f6q9z2AHrP8eOOueila1Xtb5z7IzWZj3BhrAnEgAAAABdIhIAAAAAXSISAAAAAF0iEgAAAABdIhIAAAAAXSISAAAAAF0iEgAAAABdIhIAAAAAXSISAAAAAF0iEgAAAABdIhIAAAAAXSISAAAAAF0iEgAAAABdIhIAAAAAXSISAAAAAF0iEgAAAABdIhIAAAAAXSISAAAAAF0iEgAAAABdIhIAAAAAXSISAAAAAF0iEgAAAABdIhIAAAAAXSISAAAAAF0iEgAAAABdIhIAAAAAXSISAAAAAF0iEgAAAABdIhIAAAAAXSISAAAAAF0iEgAAAABdIhIAAAAAXSISAAAAAF0iEgAAAABdIhIAAAAAXSISAAAAAF0iEgAAAABdIhIAAAAAXSISAAAAAF0iEgAAAABdIhIAAAAAXSISAAAAAF1zE5Gq6qiqOqeqPltVfz7reQAAAAD4sbmISFW1Jcnzktw+yfWS3KOqrjfbqQAAAABYMBcRKckRST7bWvvv1tr3k7wqyTEzngkAAACA0bxEpGsk+dLE7XPHZQAAAADMgWqtzXqGVNXdktyutfag8fZ9khzRWvvjqfWOS3LcePOwJOds6KCbwwFJLpr1EDvJNsyHzb4Nm33+xDbMi82+DZt9/sQ2zAvbMHubff7ENsyLzb4Nm33+xDbMi11hG9bDtVpr2xa7Y+tGT7KEc5Ncc+L2wUnOm16ptXZSkpM2aqjNqKrOaK0dPus5doZtmA+bfRs2+/yJbZgXm30bNvv8iW2YF7Zh9jb7/IltmBebfRs2+/yJbZgXu8I2bLR5OZztQ0muU1XXrqrdk9w9yRtnPBMAAAAAo7nYE6m19sOqemiStyfZkuTFrbVPzHgsAAAAAEZzEZGSpLX2liRvmfUcu4Bd4XA/2zAfNvs2bPb5E9swLzb7Nmz2+RPbMC9sw+xt9vkT2zAvNvs2bPb5E9swL3aFbdhQc3FibQAAAADm27ycEwkAAACAOSYibXJVtcdKlrG+quraK1k2z3aFbQB2DVV1t5Usg12dv/PmQ1XdfCXL5tlm3wa/CzA/RKTN7/0rXMb6es0iy1694VPsnE2/DVW1V1UdNus5dlRVPWwly1hfm/3nsNnnHz12hcvmVlU9YyXLoGPT/51XVfdbZNlTZzHLTnjOCpfNs82+DZv+dyFJqmrfqjqiqo5cuMx6ptXaBf7eftdKlrG0uTmxNqtTVVdLco0ke1XVDZPUeNc+Sfae2WA7qKr2SnJIa+2cWc+yGlV13SS/mOQqVfXbE3ftk2TP2Uy1OrvCNiRJVd05yQlJdk9y7aq6QZK/aK0dPdvJVuV+SZ49tezYRZbNtfHTNl/ZWvv6rGfZQZv957Bp56+q2ye5Q5JrVNXfTty1T5IfzmaqHXbbJI+ZWnb7RZbNtap6V2vtNr1l86qq9k7yqAx/Y/x+VV0nyWGttVNnPNqydrG/8+5ZVZe11l6VJOPv9j4znmlFqupmSX4tybaqeuTEXftk+ETpubfZt2FX+l2oqgcleViSg5N8JMlNM4SwW89yrtXYzH9vV9WeGd4zB1TVvrn8e+nqMxtsExKRNq/bZfhHwcFJTpxYfkmSx81ioNWoqqu01r45fr1p/2OU5LAkd0ryM0nuPLH8kiS/P5OJVm9X2IYkOT7JEUlOS5LW2keqavvsxlm5qrpHkntmeP+/ceKuKyf52mym2ilXS/KhqjoryYuTvL1tgk9x2Ow/h80+/+i8JGckOfr/s3fm0XIVVft+3gQwSEhABQQ1zCCIhFFGQVRQFFQmEUEQ/EBFmfwUFUUGp5/6gSIICGIERHBAkEEZZAiDIhIIAQUFmZVRhkQgZOD9/VHVSefmJrf7Jt7q3V3PWr1un+r0Wu9JndNn1649ABOaxqcAhxVR1CaSPgkcCKwiaVLTR0sCN5ZR1T5dZGyPI11Lm+XjR4BfAh3tRCK4ndeHnYCLJc0kOVJfsP3RspJaZjFgJGnNtGTT+GRg1yKK2if6OXTTvXAIsDFwk+1t8kbuMYU1tcvRBLW3gY8Dh5KeYROY/VybDPyglKiI1O5swZG0i+3+0pA6GkkHAP+2fb6kCSQP/LW218+fT7K9blGRbSBpM9vhQmqbiX4Okv5kexNJt0W7jiStCKwMfBP4QtNHU4BJtqNFYCBJwHbAvsBGwC+AM2z/o6iw+RB9HqLrb0bSoranl9YxGCSNBpamn3mw/XQZVe2TUyAbxvY/mdPYPt32SaW0tYOkW2xv1OfZcLvtsaW1tUJUOw9AUnO00SjgYpIj9QgA25NL6BoMkla0/WBpHQtC9HOIfC80kPRn2xtLmghsYvslSRNtr1daW6tEtrcbSDrIdqRUzo6jRiLF5xJJHwZWomk+bR9bTFEL2D5N0pGkOjwzbD+X1pxhuVfSEcw9D/sVU9Q+D0u6ANgCMHADcIjtR8rKapk7870wPKcrHAz8obCmlshG3YPM3ikPj21Legx4jJSGtDTwK0lX2j68rLr+iT4P0fX34S2SjgZWJP2minRZrVJUVQvkKNvngD0kDQeWI53DSEkjbT9UVGCL2D4BOKELjO1pOWXeAJJWBV4qK6ktQtp5mb+Q/t/V9Pf9+WVgTDlpbfMKSacx9zyESUMi/jlEvhcaPCJpKeBC4EpJz5AicCMR1t5uYPtESZsz97V0VjFRwaiRSMGRdBnJWJ0AzGyM2z6umKg2kXQGcBVpx3YX0o/RorY/UVRYG0j6A3A9c89DmB0TSVcCPwPOzkN7AXva3racqtbJdS++RIp+Abgc+JrtqeVUtUeuSfUtYFmSsd1YOIeoHdFA0sGkujxPAT8CLrQ9XdIw4B7bqxYVOADR5yG6fgBJd5PS1/r+pkZJy2vUBjsaeBx4OQ870m5tg8jGtqRtgS8DawNXkDZKPmr72pK6WqUb7LxuQNLtwKnMPQ8T5vmlDiP6OXTbvSBpa2A0cJntaaX1tEqX2NtnA6uS6lI1riXbPricqlhUJ1JwJN1pe53SOhaELvkxChWK2h/9hfd3w3lFQtK9wI627yqtZUGQdAzw4/7C5iWt1ennF30eouuH2eHypXUsCHkeNonk+OqPbjC2Jb2aVMBWpFokTxWW1DJdYud9AjjP9rP5eGlgN9unlVXWOpIm2N6wtI4FIfo5dMm98Kp+hqdETd+OiqS7gLUj1OvsVIaVFlBZYP4g6c2lRQyGbJgC7G/7S7Y3zq8vR3IgZS6R9J7SIhaQJyXtJWl4fu1FnGK8SLoyhwg3jpeWdHlJTYPg8cgLf4AcbbTLvOouBDm/6PMQXT/ANZK+I2kzSRs0XqVFtcnDpF3z6GwEbGH7QNsH5VckB9IWwFTbl5IaSByR64dFIayd18QnGg4kAKfOnZ8sqGcwXCzpQEnLS3pV41VaVJtEP4duuBduBZ4E/g7ck9/fL+lWSSEcfF1ib99JagJTGSQ1Eik4kv4KrAbcT8rxb6QtdHy4fNa+PXAR8DZmF+0EIFgB0inAEqQ5mE7M9JExwEnMrqdyI6kmUogijM0F/uY31slIOoH0ULuQppodtn9dTNQgkHQO8MUotV/6En0eousHkHRNP8MOVLujkaq9JnApc87D8fP8Ugci6ZfAwbYfLa1lMCh1yBsLrAucReoYubPtrYsKa5HIdl4DSXfYfnPT8TBSsf8wUSWS7u9nOESdtgbRz6FL7oVTgQtsX56PtwPeTWo+ckKECNwusbevAdYDbmbO53OEzuAdQS2sHZ/tSwtYAE4FLgNWYc42i5AKLoZ4qAHYXnLgf9XZ5AV/5B/PlyWNaTgu8k5zNC/5KOAFZqd2QjqHMIv/zPLAXyTdDDzfGAz0cI4+D9H1Y3ub0hoWAg/l12L5FZXXAH/N93NEY3tGLvT/fuD7ts+QtE9pUW0Q2c5rcKWkc0l2n0lRSL8vK6k9bK9cWsOC0gXn0A33wkbNNV9tXyHpG7Y/I+kVJYW1QTfY20eXFhCdGonUJUhaFhjROI4UASDpFNvRwprnIuf4r86c83BdOUXtIWkV4ARS3QgDfwQOs31fUWEtIundwGnA+Dy0FXBAY7enMnTkYpFzYXt8f+OVSgNJe9n+qaTP9Pd5tCiebiD6/SxpPGnDal/Sc+FJYGJzZEwEgtt5w4EDgXeQNgyvAH5oe0ZRYW0iaR1SgfbmeQhRYL5Bl5xD5HvhClIzofPy0O7AtqRopD/b7vi07WpvV6A6kcIj6X3AccAKwBOkdsh32X5TUWGDIPhD4X+AQ4DXk4qPbgr8MVjqxU3AD4Bz89CHgIMihNY2kPQaZhdP/WOk4qkAkkYAHwPexJz3wn7FRA2SvDO1uu3f5+L5w21PKa2rFaLPQ2T9kj5u+4eSjurvc9vHDLWmwSJpGeBw5p6HMM+FbkDSa4EPkxZo1+fU7bdFWTh3k50Xmfyb9DaSA+a3pKiYG2zvWlJXO0Q/h264F7KdehSwZR66ATiWVD9vjO17S2lrhy6wtzcFTgTWIkUKDweej1SGpDS1sHZ8vkq6if+ew1TfQaplEwZJO0q6h5TjPB54APhdUVHtcwiwMfBgTsNYn7TbGQnZPtv2jPz6KfHCU2eSDIvngLUlbVVYT7ucTapl8y7SvfB6IITjpRlJ+wO/An6Yh15Hqs8ThejzEFa/7R/mv8f09yqtr03OAe4GVgaOIT3b/lxS0GCQtKmkP0v6j6RpkmZKmlxaV6vYfsz28bavz8cPRXEgZbrBzrtH0t/7vkrrapNdSf/3j9nel1RnK0r6UYPo5xD+XrD9lO2DgLfaXj83KnjS9rQoDqRMdHv7JGAPUnHzxYH/yWOVFqlOpPhMd2ofPEzSMNuNQmGR+BrBHwqkzi9TASS9wvbdpIKqkbhG0hckrSRpRUmHA5dG6d6Ro8GuAy4nLdguJ17O82q2jyTthpwJvBcIlXKR+RSwBTAZwPY9wLJFFbVH9HmIrh9Jr5d0gaQnJD0u6XxJry+tq01ebfsM0nN6fI4E27S0qEEQ2tiWNEXS5Pyamp1gkbrmdYOdtyXw1vzalpQK8/OiitrnRdsvAzMkjSItoMPU7sxEP4fw94KkzXOB8L/m47GSTi4sqy26xN4mO+2G255pexwpSq/SIrWwdnyelTSSdDOfI+kJIFSOOfmhIGnWQ0HSt0qLapNHlNpdXkgqIPkM8K/Cmtpl9/z3433G9yNGofNGNNhNtreR9EbSwy0S0/PfZ3PdgseAlcrJGTQv2Z4mpVr5khYhVlRb9HmIrh9gHPAzYLd8vFce27aYovZpzMOjkt5LeiZEc4QBydiWNNz2TGCcpD+U1tQqfRtfSPoA8JZCcgZDeDvP9uN9hv5P0g1FxAyeW7KddzqpGcx/SJ2dIhH9HMLfC8B3SVHCFwHYvj1gFE832NsvSFoMmCjp28CjpC7blRapTqT4vB94ETgM2BMYTcqtjUT4h4LtnfLbo5XaRo4mFfIMQxd07Zhqe6qkWdFgkqJFg52WC7R/mWRgjASOLCtpUIyXdASwuKRtSQVVLy6sqR2iz0N0/QDL5J3BBj+RdGgxNYPja5JGA/9Lqr0wivSsjkZXGdu2L5T0hdI62iC8nSepuQX7MGAj0nmEQGlH5Ju2nwVOlXQZMMr2pMLSWqYbzoEuuBcAbD/c2GTLzCylZZB0g739EdJv0adJ19MbgF2KKgpGdSIFRqnbxW9svxN4GTizsKS2kLQasBxzPxRWBA4qKK0tJA0DJtleB+J0rGkgaWPgYduP5eO9ST+kDwJH2366pL42CB0Nlq+jybafITlUOz3ya358gVTY+Q5SZNtvbZ9eVlJrRJ+H6PqbeErSXswu9L8H8O+CetoiP59Xt30JqWbENoUlLQihjW1JOzcdNhwYISIjo9t5Tfyg6f0MUg3M3efxbzsO25Z0IbBhPn6grKL2iX4OXXQvPCxpc8DZOX8wcFdhTe0S3d4eDnzd9l7AVOJFUXUEtTtbcCRdBHzEdqT8fgAkXQIc0XcXRNJGwFG2dyyjrH0knQN8MVJHuQaSbgXeafvpHFJ7HsmJtx6wVpSuHc0otaQeDVxme1ppPa0i6Trb0cKa50LShrYn9Bnb0XaIaKTo8xBdP4BSB62TgM1IC/4/AIfYfrCosDaQdE1utBCWbGyfmY3tkEhqjmibQSpwfrrtJ8ooao/Idh7MuoZ2sv2r0loWBEk/AH5iO1xx/AbRzyH6vQCzupqdALyT1NnsCtKzLcwmSTOB7e3LgR0jae40qhMpOJJ+QSrUeSXwfGPc9sHFRLWIpDsb0Tv9fHaH7TCFYCVdTcoPvpk55+F9xUS1iKTbbY/N738APGn76Hw80XZHFy3UAEW/A0VSIelIUlTez5nzOgpzDjDLMbmP7Tvy8R7AobY3KausNaLPQ3T93YKkr5OM677zcGsxUYOgGttliWznNZB0ve23ltaxIORiyGuQorSfJzkAbHvd+X6xg4h+Dt1wL0Smy+ztHwIbkFL+m6+l44uJCkZNZ4vPpfkVkRHz+WzxIVOxcIgcCjlc0iK2Z5A64x3Q9FmE34gJpEiF5gTzxnGEguDN7Jf/fqppLNo5QGoj/CtJe5K68uwNbFdWUltEn4ew+iWdyLxTjV4C/gGcY3vK0KkaNJvnv801Owy8vYCWBeEB4MYcBRDO2Fbq6nciqWOkgRtIO/+PFBXWOpHtvAaX55pmfR2qk8tJapvtSwtYCEQ/h7D3wgDPtiiOsG6yt/+VX8OAJQf4t5V+qJFIlWJIOhe4um+tFEkfA7azHSZfPjKSvgS8B3gKGANskHPnVyOlMWxRVGAlJJLWIOXLPwx8wPaLhSVVAiBpn/l8vAjwJuDNtiN1aQuNpKP6G7cdYvNE0pWkTn9n56G9gD3rNTR0SHq46XDWotP2mEKS2ian2M5FpDIG3XAOUWl6tm0BrE1yqELqQDrBdsSmC5UepjqRgiPpfvrxbNvueG+wpOWAC4BpJO82pIKXi5Hy5x8rpa1dJE1h9jwsBiwKPG97VDlVrSNpU2B54Arbz+exNYCRnZ56IWlZ4AhgNWAS8P+C7W7OIhc1nwvbZw21lsEg6Q7m/D1allRU+CWAQCHz0echtP6BkPRb2+8prWMgJH2lv3Hb4boJRaa/tOwIqdoNgtt5m9q+qbSOhUHT802kSPqVgb/ZflNRYW0Q/Rwi3wsNlDo4b2d7ej5elGR7d3z9vC6zt6+h/2spWqRwMSKkqlTmz0ZN70eQPNrzzVntFGw/DmwuaRugURvpUttXF5Q1KGzPEQop6QPAWwrJaZv+jDzbfy+hZRCcRXJCngjsAHwf+GhJQQvAxk3vR5DSC28lnWMEdigtYCERfR6i658vERxImeeb3o8g3R/RuvB0g7EdutMfge084GRS3ZHw9K3TKWkDUvfRMHTBOUS+FxqsQEqfatQPGpnHItBN9vZnm96PIHUcnVFIS0hqJFIXIukG21uW1tHrSLrJ9qaldXQ7fXeUJd1quyuMVkmjgbMjFGjvj7xrNav2WdSQ+S6Yh9D6uwVJrwAusv2u0lraQdKGTYezjG3bhxeS1Bbd0OmvL1HsvG56HvdHN5xf9HOIci80kLQvcDRwTR7aGjja9pnFRLVIN9vbAJLG2966tI4o1Eik4ORdhAbDSF76WiBsiJG0c9NhYx6qh3ZokKSlmV3ob3jzcaRuEf3wArB6aRHtIul9wHGk3bUngBVJERghQub7IeQ8NBFdf7fwSmIVHgXA9oQ+QzdKGl9EzCDIzuuwDtTgdt4quSB7v0RybEv6TNPhMFKE1ZOF5AyK6OcQ/F4AwPY4Sb8DNiGtE74QqHxH19jbfTrNDQM2BF5bSE5IqhMpPsc1vZ9B6qLywTJSepodm9435uH9ZaQMDknfsv35gcY6kNGk8NrmbhGNOk6hukVIupjZzsdhpOKLvyinaNB8ldSG9/e2188pq3sU1tQy0eehC/S/HzgcWCsP3QIca/sGSaNtP1dOXev0qRE2HFiGOTu1hSC6sS1pGWB/YCWa7F7b+83rOx1GZDvvSebUH5lmZ8UMUpew8wtpGSzRzyHyvdDMW4C35vcGLi6opR26xt5mzk5zM4D7gY8VVRSMms5WqVSA/sNSJU2KUgy5G5DUHEY7A3gwUBvqWUi6xfZGkm4H1rf9sqSbbYeoExZ9HiLrl3QgsB/JiXRLHt4I+BpwAnCE7bGF5LWFpBWbDmcAj9sOV3OhqZhts7F9rO0bigprEUl/AK4nLRpmNsZtR1o8h6Tb0l0qlQVF0v8j1S08Jw/tAdxi+4vlVFUq7VOdSF2ApPeS0kSaa4+E2+2MjKQRJA9233no+J1OSZ8EDiTtIPyj6aMlgRtt71VEWCUskn4PfAD4JvAaUkrbxrY3Lyqs0vFIugvYom9YvKRXA48An7F9ShFxg6RbaoNFJVIntnkR1c6T9GvbOw/8LzufHNF2OHPPQ5QC891yDiHvhQaSJgHr2X45Hw8HbqsbtkOPpHVIkdrN11JXNCAZCoaVFlBZMCSdCuwOHETaJdyNVH+kMrScTQrvfxcwHng9MKWootb5GSkd76L8t/HasDqQhhZJm0r6s6T/SJomaaakiO1T30+qw3MYcBnJObnjfL/RQUSfh+j6+6urYPvfpIiqMA4kSe+TdA8pcmc8KfXid0VFDRJJ60j6oKS9G6/SmtrgEklROvrNRWQ7r1scSJlzgLuBlYFjSPfzn0sKGgShzyHyvdCHpZrejy6mooeRdBSpy9yJwDbAtwlcO68E1YkUn81t7w08Y/sYUveRNxTW1IusZvtI4PncYeG9wJsH+E5HYPs52w8AXwYeyx1rVgb2krTUfL9cWdicRAptvgdYHPgf0gMuFLaft/1yTt25FDgxOwGiEH0eIuufLGmudLU8FqIWUhON2mB/t70y8A7gxrKS2ieqsS1pSnaeHkJyJL0oaXLTeBSqndcZvNr2GcB02+NzpHm0DrzRz6Eb7oVvArdJ+omkM0lptt8orKkX2ZX0TH7M9r7AWOAVZSXFojqR4vNi/vuCpBWA6SQHQGVomZ7/PpvDI0eTinhG4nxgpqTVgDNI19HPykpqHUlzFcTLueehsH0vMNz2TNvjSIu2EOQImGsl/VrS+pLuBO4EHpf07tL62iHyPEBo/f8LXCTpaEk7StpB0jHAb/JnkZienafDJA2zfQ0QMa0qpLFte0nbo/LfYbYXbxwTa/e/2nmdQcPOe1TSeyWtT4o6j0T0cwh/L9g+l+S4+3V+bWb7vLKq2kfScEkrSBrTeJXW1CYv5pTCGZJGkcouRCoMXpzanS0+l+Roke+QKuQb+FFZST3JabnN5ZdJaWEjgSPLSmqbl23PkLQz8D3bJ0q6rbSoNthV0lTb5wBIOpkAC50+vCBpMWCipG8DjwJLFNbUDicBR5AWaFcD29u+SdIbgXNJqW0RiD4PYfXnDmybkOq0fZSUsvAXYNNAbZAbPCtpJHAdcI6kJ0iFqaPxYi6OH9LYlnSs7a80HQ8jpaDvWU5VW4S18zRnS/a5sH3r/D7vML4maTTJmX0iMAo4tKyktol+DmHvBQBJiwAzbT+a7etNgOWBUM82SQcBRwGPAy/nYQOR6jrdkq+l00nRYP8Bbi4rKRa1sHZwJL3C9kuN96TiYFMbY5WhQdLKtu8faKyTkfQn4HvAl4Adbd8v6U7b6xSW1hKSFic58H4MbA88bTuScdTo5vQ4sBipntBo4Ae2/zHfL3YIzQVsJd1le62mz26zvX45da3TBfMQWn+3IGkJ0s75wlSXZQAAIABJREFUMJLDYjTw0/5qPnUy2SF/BPAh0uLzP8DEHJXU8Uj6CfA329/MdtIvgVttH11UWItEtvMkXZPfjiB1Wbyd5BheF/iT7S1LaWsXSVvYvnGgsU4m+jkEvxf2B75F+v38KvA5kiNsfeDHtr9VUF5bSLoX2CRYmYJ5ImklYJTtSYWlhKKms8Xnj403tl+y/VzzWGXI6K9V8K+GXMWCsS8pv/zr2YG0MvDTwpoGRNKrJL2K2bVfDgcmA8fm8Uh8wPZU25NtH2P7M8AOpUW1wctN71/s81mkHYvo8xBWv6TVc62I4yW9XtLvcoHw2yVtXFpfm3ylURvM9pm2vw98vrSodrF9oO1nbZ8KbAvsE8WBlNkXeLOkLwIXA9dEcSBlwtp5trexvQ3wILCB7Y1sb0haON9bVl3b9FdXLkqtuQbRzyHsvUCK+FoV2JK0Ybu57Q+R7oVIjQoAHiZejcI5kHRV473tB2xPah6rDExNZwuKpNcCrwMWzznNyh+NAl5ZTFiPkdN03gSMzmlgDUbR1DIyArb/ChzcdHw/EKGm0ASSg0JNf9+bXyZQ2gWwD3BCn7GP9jPWqYzNBWtF+m1qFK8Vse6H6PMQWf844CzSb+ifSIb3TsBbSemSm5ST1jbbMrfTaPt+xjoaSVfZfgckY7vvWKfSJ5XqBOCHpMLm4yVt0OmpVF1m573R9h2NA9t3SgpRH0zSZsDmwDKSPtP00ShgeBlV7RH9HLrkXphm+xngGUn32n4KwPYLkqYV1tYSTdfOfcC1ki4FZkWB2T6+iLA2kDSCdM28Jpchab6WVigmLCDViRSXd5EWBa8HjmP2TTCFFHZeGRrWJO3wL8WcLcynAPsXUTRIJK1O6hqxNk0Lftsd7YTJXY9CI2kP4MPAypIuavpoFBAmXNh2xxuj8yP6PETXnxlp+zQASZ+w/cs8fqWk7xTU1TKSPkmq6bSqpObw+CUJ1J2tC4zt4/ocP0N6vh1H2mB4+5Arao9usvPukvQjUnSzgb2Au8pKapnFSHUuFyHdww0mk4rORyD6OXTDvdBwgA0DFmtyhkXaZGtcOw/l12L5FYmPkzanViBtQjeupcnAD0qJikitiRQcSbvY7i+VqjKESNrMdpSQ2n6RdAOpUN53SQ6xfUm/EUcVFdYikj4FnGP72Xy8NLCH7ZPLKhuYXMNmZZIT7wtNH00BJtmOWIw3HNHnIbp+AEm32t6g7/v+jjuVXLh2afqZh0j1kCQdwmxj+5/MaWyfbvukUtp6iW6w87JD8pPAVnnoOuAU21PLqWoPSSvafjC/H0ZyeE8e4GsdRfRziHwvNNUH65ec9lkZIiQdZDtSKmfHUZ1IwclG3jjSIuF0YAPgC7avKCqsx1DqgPQ1Uh2Yy0gtkA+13fE1hRpImmB7Q0l32H5zHrve9ltLa2uF5qLOTWNhijnD7EK8uRPSGsAbgd/Znj7AVysLkejzEFm/pBdItVJEqh/RqJsiYBXbIbrMAUhaFXjE9kuS3kYqJnxWw9EdhW4wtiW9l5R63hxle2w5Ra3TLXaeUsfINUmRSH+L8HvUjKSfAZ8AZpIiGEYDx9sOESEJ8c+hW+6F6Ei6Etitz6btebbfVVZZ60jaDbjM9hRJXyZdS1/r9DTnTqIW1o7PfnkXYTtgWVL0SIQ6Nt3GdnkedgAeAdYgdV6IxNS8M3WPpE9L2ol0TUVhmKTGTjmShhMvzPY6YISk1wFXke7nnxRV1JtEn4fI+tciRULu0PS+cbx2QV2D4XxgpqTVgDNIUWI/KytpUDwmaUkASV+W9GsN0Lq9k5B0KrA7cBDJGbkbsGJRUe0R3s7LTtR7SHXNTgb+Lmmr+X6p81g7z8MHgN8CY4CPlJXUNtHPIfy90CUs07wZkms9RVovAByZHUhbktIlzwROKawpFNWJFJ/Govk9wDjbtzeNVYaORfPf9wDnRkpZaOJQUv2Lg4ENSTUL9imqqD0uB34h6R2S3g6cS4oKi4RsvwDsDJxoeyfiLZy7gejzEFa/7Qf7voDngYcaaRiBeDmnEO4MfM/2YcDyhTUNhujG9ua29waesX0MqQvpGwpraodusPOOI222bW17K9J19N3CmtplUUmLkhwwv8mRVNHSOaKfQzfcC93ATEljGgc5lT7SdQQpGg9SE55TbP+GeBvPRalOpPhMkHQF6Qf18rxb+PIA36ksfC6WdDewEXCVpGWAELn+ks7Obze3/R/bj9je1/Yutm8qKq49Pg9cTaq78ClSBMbhRRW1j3IXlT2BS/NYbYAw9ESfh7D6JW0q6doc7bK+pDuBO4HHJb27tL42mZ6Lne8NXJLHFp3Pv+9UohvbL+a/L0haAZhOigqLQjfYeYva/lvjwPbfiXcv/BB4AFgCuC4vnMPUE8pEP4ew94KkEM/gFvkScIOks/Ma4jrgi4U1tcs/Jf0Q+CDwW0mvoPpF2qLWRApOTj9aD7jP9rOSXg28zvakAb5aWcjknODJtmfmmiRL2n6stK6BkPRXUtvpi4C30WdXJ2hUVUgkbQ38L3Cj7W9JWoVUW+vgwtJ6iujzEFm/pFtI3XZGA6cB29u+SdIbSVGekWqcrU2qP/JH2+dKWhnY3Xao9AtJl5AKa7+TFKX6InCz7bFFhbWIpCOBE4F3kLrvGPiR7SOLCmuRbrDzJP2Y9P/e2LTaE1jE9r7lVC04khaJ0LBgfkQ6h8j3Qn62PUKKkL/M9gNlFS0Ykl4DbEpaM/zR9lOFJbWFpFcC7wbusH2PpOWBN9f6Wq1TnUjByTVg9iQVHD02hxe+1vbNhaX1FPnH6DPAGNsHSFodWNP2JQN8tTiSDiZF76zCnB14AGx7lSLC2iT/n3+TlLbTXDw1hP5mJC1h+/nSOnqd6PMQUX9zgXxJd9leq+mzUIXyASQtTnou/G3Af9yhdJOxnXebR9h+rrSWVukGOy//v38K2JJkY1wHnGz7paLC2kDScsA3gBVsb5+dxJvZPqOwtJaJfg7R74Uc+bU96ff0dcANwO+A8RHuBUlvtH33vGriRStKnVO0V7c9LmeQjLR9f2ldUahhW/E5mZTfv0c+nkLaaasMLeOAacDm+fgRUre2jsf29/NC7ce2V7G9ctMrkgNmHKlOxwxgG+AsZu96hkDSZjky7K58PFbSyYVl9RzR5yG4/ubUhBf7fBZq10vSjsBEcm02SetJuqisqvbJ9bWeIDkAIP3G3lNOUXtIeqWkIyWdnhdqy0raobSuNghv5+X/95OAo4AjgZMiLJr78BNS7cUV8vHfSbUkI/ETYp9D6Hsh1/k71fYHSOuFi0kRntdLunT+3+4IPpP/HtfP6/9KiRoMko4ilcFopOEtCoTpqN0JVCdSfDax/Sly/Z1cIT9SrYJuYVXb3ybVWsD2i8Qr9ndL3wFJkdIuFrd9FSnC8kHbRwNvL6ypXb5HKjj6b4BcNDJaB5tuIPo8RNY/VtJkSVOAdfP7xvGbS4trk6OBtwDPAtieSKxaPEBXGNvjgJdIi08ItMmTCW/nqTu6s73G9i/Iju6cAjZz/l/pOKKfQ/h7oYHt6bavtn247bcAB5TWNBC2D8h/t+nnFc3e3gl4H6lxB7b/BSxZVFEwuqnIV68yXamVuQFyOF6IInNdxrScttCYh1VJRmskdpU01fY5ADlyYcQA3+kkpuZ8+XskfZqUmhet5Si2H04R27OIZOB1DdHnIap+28NLa1iIzLD9XJ95CBVNldkJWB+4FZKxnQvaRmFV27vnIufYflF9JqXD6QY7r9Gd7W8AktYgdVDdsKiq9ng+1+BpzMOmQJi0yEz0c+iGe6FfbP+ztIZWkXQ9KSX1elLtxSmFJQ2GabYtqXEtLVFaUDSqEyk+3wcuIIVnfx3YFfhyWUk9yVGklIU3SDoH2AL4aFFF7bMzcJGkl0k520/bPrCwpnY4FHglcDDwVVIU0j5FFbXPw5I2ByxpMdK53FVYUy8SfR6i6+8W7pT0YWB4rtl2MPCHwpoGQ3RjO/omTzfYeXN1Z1NqNR+Jz5AakKwq6UZgGWC3spLaJvo5dMO90A3sQ0pv3gX4jqSXgOttH1ZWVlv8Qqk721KS9gf2A35UWFMoamHtLkCpa807SOlTV9mui4UC5N2dRqeCm6J0KpD0qqbDJYELgRuBr0DtzjaU5G4XJ5By5AVcARxi+99FhfUY0echuv5uIRek/hKwXR66Aviq7anlVLWPpM8CqwPbkpoX7EfqlPf9osJaRNJ2pHlYmzQHWwD72r6mqLA2iG7nqUu6sym1aV+TNA9/sz29sKS2iX4O0e+FbiE3WNgaeCupDulDtt9dVlV7SNqW9HwWcLntKwtLCkV1InUZkpYCPmX766W19DKS1gQ+a3v/0loGQtL9JONOTX8bROrOtgbwOWBFmqIsA+Zpz0HEDlvdSPR5iK6/W5C0ou0HS+tol+jGdtRNnv6IaOd1Q3e2vuR74nDb25bWMliin0Oke0HS92wfKuli+klrtv2+ArIGhaR/AE8BPyOltE20HTqtMKdJfqhR0qMyMDWdLSiS3kDqcLECKXLkZ6QUno+Q8swrQ4CkdUkdCRrzcCKpaOQmpBoAHY/tcIVe58EvgVOB0wlS/6UZSa8Dlgcm2Z4maVlSit5Hmd1JpfJfJvo8RNffLUjajNTC+TrbT+RnxRdIu7ZvKCpuEGSn0ZWQjG1Je0YxtiVdZfsdwKX9jHUs3WDnSRpj+6HsLDo+v0Ih6e0k26IxD98gdX8V0PHOC4h/Dt1wLzA7Ci9UF7N58H2SQ3gPUr288ZKus/2PsrIGRtIokkP7daTUzivz8edI3VRDPNc6gRqJFBRJ1wDjgT8C7yaFdv4FOMz2YyW19RKS/kRqK9+Yh8NJD7cjo6UsAEhahxTyP6ugtu2zyilqHUkTbEcq0jkLSYeS0i3uBV5BSkU6nmTkfdv2owXl9QzR5yG6/m5B0neAHUgG6WrAJcCBpIXbD6M8GwYytm2/v6C8AZE0glQn7xrgbcyOsh0F/M72WoWktUQ32HmSbrW9QX5/vu1dSmtqF0m3AYeR5mF70u/pkbZPKCqsDaKfQzfcC92IpJHAvsBngddHaIwh6TfAM6Rr6R3A0qQOf4fkDqqVFqlOpKBIut322Kbjx4ExkUODIyJpou31mo4fBlayHTES5iiSob028FuSoXGD7V1L6moVSUcDT5CKLs66DyLUdJL0V2BL209LGkNyAmxl+6bC0nqK6PMQXX+3kOdhA9tTJS0N/AtY1/Y9haW1RXRjW9IhpCi8FUjdOhtMAU63fVIRYS3SDXaepNtsr9/3fSSaHWH5+B+2Vy2pqV2in0OX3At30H93TpFKR6w7xJIGjaTjSJFII0nPh+tJhbXvKyqsBSTdYfvN+f1wUlremKAd5opS09kCk43Txs7aY8ArG11TIiycu4QRktZn9jz8B1hXSu2Dbd9aTFn77AqMBW6zva+k5YjVqaDRie1zTWMGItR0mtq4Z20/JOnvdeFfhOjzEF1/t/BiI9rI9jOS/hbNgZRZpcnY/hHxjO0/AL8AdrV9oqR9SN2EHiBFDHc8XWDneR7vI7GUpJ2bjtV8bPvXBTS1S/hz6IJ7YYfSAhYiN5Gimx8vLWQQzCokb3umpPsDPdM6ihqJFBRJDwAvM2cR5AZhiiFHJ4fYzgtHKuos6Wbbb5E0gdRpYQpwp+03FZbW9Uh6AjivaehDzce2Dx5yUT1I9HmIrr9bkPQsqXBwg62aj6MUUO0nemGO405H0q3AO3Nk3lake+EgYD1grU6Psu0GO0/STOB50jksDrzQ+Ih0DqNKaWsVSePm87Ft7zdkYgZJ9HPohnuhGUkrAqvb/r2kxUmdCjvekSFpvr//ETbOm36TYM7fpTC/SZ1CdSJVKhUAJJ0MHEFaeP4vKapqoju8Ba+kjYGHG3nxkvYm7TY/CBwdYYcq75DPE9tnDpWWXib6PETX3y1I2np+n9seP1RaFoToxnZzCoykHwBP2j46H8+Ril6pVCpDgaT9gQOAV9leVdLqwKmdXugf5tg4HwFsBNxOeh6sC/zJ9paltFWGnupEqlQqcyFpJWCU7UmFpQxI9N3mSqVSqSx8JN0JrGd7hqS7gQNsX9f4zPY6ZRVWKpVeQ9JE4C0kp0ujXtisOj0RkHQe8HXbd+TjdYDP2v5oUWGVIaXWRKpUKkBKkAf2JNXBOFbSGElvsX1zaW0DMLwp2mh34DTb5wPn54d1pVKpVHqPc0mtp58CXiQVf0XSasBzJYVVKpWe5SXb03LpVCQtQrx6YW9sOJAAbN8pqUZ29hjViVSpVBqcTMo5fztwLKkm0vnAxiVFtcBwSYvYnkHqIHRA02f1N65SqVR6ENtfl3QVsDxwhWeH3g8jRatWKpXKUDNe0hHA4pK2BQ4ELi6sqV3uys0WfkpygO0F3FVWUmWoqelsXUBuUbgcTQtm2w+VU9SbSHodsCJzzsN18/5GZ9EomtqnJe8cbVU7EUlfAt5D7hxEaq3tvNt8pu0tigqsVCqVSmUBkLQlqRDvOEnLACNt319aV68haXNgJea0884qJqhF+nRmm4sI3dkaRF/zSBoGfAzYjlRP6HLgRw60IJc0AvgkqWkEpMYRpzS6klZ6g+pECo6kg4CjgMdJUSSQCl6uW05V7yHpW6RUqr8CM/Owo3ThAZD0J2Bz4M/ZmbQMafd2/cLSBkTSpszebX4+j61BMrQ7vltEg/x/vj9zG6kd3TmlW5B0IvMJK4/S3axeR51B/g36HHNvLoTp2lkpj6SjSEVs17S9hqQVgF/WDZKhRdLZwKrAROa08zr+udDUnW1Zkp13dT7eBrjW9nydTJ1Ct6x58jMa20+W1tJrSJrC/O28jm4Y0UnUVI/4HEIyLP5dWkiP8wHSPLxUWsgC8H3gAmBZSV8HdgW+XFZSa9i+qZ+xv5fQsoD8hlS34/fMNlIrQ8ct+e8WwNrAz/PxbsCEIooGR72OOoNfAqcCp1PnoTJ4dgLWB24FsP0vSUuWldSTbASsHSlipEGjy66kS0jn8Gg+Xh74QUltbRJ2zZPrjh4FfJoUgaTcAfNE28cWFdcmkrYAjmbuDZJVSmlqFdtLAkg6FngMOJs0H3sC9Xe1DaoTKT4PUwtEdgL3AYsCYZ1Its+RNIFUV0jAB2zXHOeh5ZW2P19aRK9i+0wASR8FtrE9PR+fClxRUFq71OuoM5hh+5TSIirhmZZTtA0gaYnSgnqUO4HXAo+WFrIArNRwIGUeB9YoJWYQRF7zHEraoNq4kYoqaRXgFEmH2f5uUXXtcQZwGGlzLeoGybtsb9J0fErOyPh2KUHRqE6k+NwHXCvpUpocGLaPLyepJ3kBmJiLeDbPQ8eHOcOsHO1JueXx3aX19DCXSHqP7d+WFtLjrEDakWp0/RuZx6JQr6PO4GJJB5IiPJufC0/P+yuVylz8QtIPgaUk7Q/sR4puqwwBki4mpb8sCfxV0s3MeT+HKVtAWi9cTupcaOBDwDVlJbVF5DXP3sC2tp9qDNi+T9JepE2qSE6k52z/rrSIBWSmpD2B80j3wh7EdYgVodZECk7OlZ8L28cMtZZeRtI+/Y03IhsiIOkc4IuRChR2GzlXewmScTSdFBHmmqM9tEjalxSq3TCutwaOjnI/1+uoM5DUX+FjRwj5r3QWuYvTrEK8tq8sLKlnkLT1/D63PX6otCwMJO1EU0Fk2xeU1NMOkdc8ku7MG7VtfdaJSPp/wHDg18zpzItUg3Ql4ARSdBjADcChth8oJCkc1YlUqVQAkHQ1sDFwM/B8YzzYLlulslCQ9FpgE9IO1c22HyssqVKp9CA5fW2q7ZmS1gTWBH7XSLetDA2SVgYebXSgkrQ4sFy0Raek5YC3MPvZ9kRhST1BowNyu591IpL6i15zbRrRW1QnUnByhf/DgTcBIxrj9UYeWiStDnyTVIy3eR7C7DjPa7ct2i5bdCQtDazOnNfRdeUU9SaS3sfs3drxti8uqadd6nXUGUhah7mfCx3fErzSOeRahW8FlgZuIjUAeMH2nkWF9RiSbgE2tz0tHy8G3Gh747LKWkfSB4HvANeSotreCnzO9q9K6mqVyGueXET7+f4+AkbYXnSIJfU0kl4PnEiKRDIpEukQ248UFRaIWhMpPueQOgjtAHwC2AeoLSOHnnGkrgvfJbVM3Zf0YAhDs7NI0muAf0fsQhIZSf9D6j7yelIb4U2BPwIdbyB1EzlUe2PS7yvAwZI2t/3FgrJapl5HnUFOvXgbyYn0W2B7kqFanUiVdpDtFyR9jNTJ6duSbistqgdZpOFAArA9LTuSIvElUmHnJ2CWU+b3QAgnEoHXPLaHl9awMJH0XuZ25kXqMjcO+Bmp+y7AXnls22KKgjGstIDKAvNq22cA022Pt70facFQGVoWt30Vydh70PbRBFmwSdpU0rWSfi1pfUl3krqQPC7p3aX19RiHkJwXD9rehtTWOYSB1GW8h1QA88e2fwy8G3hvYU3tUK+jzmBXUrfLx3KL7bHAK8pKqgREkjYjtaC+NI/VTeCh58kcoQqApPcDT83n33ciw/qkr/2bWGvBuubpAHLH2t2Bg0gb5rsBKxYV1T7L2B5ne0Z+/QRYprSoSNSHUHwaOfGPZq/wv0i7z5WhZWrucHaPpE8D/wSWLaypVU4CjgBGA1cD29u+SdIbSR08LisprseYanuqJCS9wvbduQZGZehZitnd2UaXFDII6nXUGbxo+2VJMySNAp4AwqQ4VzqGQ4EvAhfY/ktuCx6po1a38AngHEknkRbOD5M6bkXisqbubJAcAZG6eNY1T2ewue11JU2yfYyk40hFtiPxVO6M17gX9iA5VSstUp1I8fmapNHA/5JyO0cBh5WV1JMcCrwSOBj4KikKqd+ObR3IIravAJB0rO2bAPLCs6yy3uMRSUsBFwJXSnqGZCRVhpZvArfl4pEi1UYKkcqWqddRZ3BLnofTgQnAf0iNCyqVlsmp5uNzgW1s30eyNSpDiO1/AJtKGkmKOp9SWlO72P6cpJ2BLUnPttMidWejrnk6hRfz3xckrUByvqxcUM9g2I+0if7dfHxjHqu0SC2sXan0OM1dIfp2iIjWMaKbyIXORwOXNddhqAwNkpYnpYQJ+FPU7mz1OuoMcjvhUbYnFZZSCUZOZTsDGGl7jKSxwMdtH1hYWk8h6RXALsBKNG3CB6sDU7uzVRYYSUeSnHjvAH5AupZOt/2VosIqQ0p1IgVF0uG5uOKJpJt3DmzXXaohQNL3bB8q6WL6n4f39fO1jqKpY4SAxYEXGh9RO0YMCZJG2Z4s6VX9fW776f7GK/89Indnm8d1NKW2BB9aJO0EXG37uXy8FPA22xeWVVaJhKQ/keprXWR7/Tx2p+11yirrLSRdBjxHiiqc2Ri3fVwxUW0StTtbXfN0Ltm5OqLxnItC7c624NR0trjclf/eUlRF5ez89/+KqlgAuq1jRFB+Ruo2MoH0MGvOIzS1jsqQEr07G3Ar8AbgGdK1tBSphsQTwP62J5QU10Mc1ZwqYvvZ3LGtOpEqbWH74T7p5TPn9W8r/zVebzt6s5Go3dnqmqcDkLQx8HAjMlvS3qTovAclHR1sw7N2Z1tAaiRSpVKpVCpNSJoErGf75Xw8HLjN9rpllbVG7pxyge3L8/F2pA5zvwBOsL1JSX29Qi46um6fsTtsv7mUpko8JP0KOJ5Uv2NTUj2kjWx/qKiwHkPSacCJtu8orWWw9P39yQ1hbq+/SZVWkHQr8E7bT0vaCjiP1KFtPWAt27sWFdgGkibaXm+gscq8qZFIQZlX+lSDCGlU3YCkO5j/PIRYdFY6A0lbABNtP5+7RmwAfM/2Q4Wl9SKRu7NtZPsTjQPbV0j6hu3P5NDzytBwi6TjmV0z4iBStGGl0g6fAE4AXgc8AlwBfKqoot5kS+Cjku4HXiJFeTqYnReyO1td83QMw5uijXYnFWY/Hzhf0sSCugZD7c62gFQnUlwa6VM7A68FfpqP9wAeKCGoR9mhtIBKV3EKMDYXTj2cVEz1bGDroqp6j+jd2Z6W9HnSLiEkY++ZHFH1cjlZPcdBwJHAz0nXUV38V9rG9lPAnqV1VNi+tIAFJXdn24VUByZSd7a65ukMhktaxPYMUlHtA5o+i+ZTaO7OZuAP1O5sbVHT2YIj6TrbWw00VqlUOp9GNzxJXwH+afuM2iFv6JC0he0bc7TOqwjanU3Sa4CjSDvnkApGHksqCjvG9r2ltFUqlfbIdWv2Z+6uYHXBM8RI2hJY3fa4PC8jbd9fWtdASNrU9k2ldSwodc1TFklfAt4DPAWMATawbUmrAWfa3qKowMqQUp1IwZF0F/Be2/fl45WB39peq6yy3kLSpqQq/2sBiwHDgedtjyoqrBIKSeOBy4B9SdEvT5LS22q9giFA0gTbG3aL407SSNv/Ka2j1+iGrp2VzkHSH4Drmbsr2PnFRPUguSj+RsCatteQtALwywgL5+ZnmqQ/2t6stKbBUNc85cnrneWBK2w/n8fWIDlUby0qrgUkXWF7u/z+i7a/WVpTVKKFnlXm5jDgWkn35eOVgI+Xk9OznAR8CPglycjYG1itqKJKRHYHPgx8zPZjksaQ2vFWhobpksYBr5P0/b4fRmkjLGlz4EfASGBMTo/8uO0DyyrrGcJ37ax0FK+0/fnSIirsBKxP6n6J7X9JWrKspJZpbu03opiKBaeueQrTX0Sb7b+X0DJIlml6vxupfEFlEFQnUnBsXyZpdeCNeehu2y+V1NSr2L5X0nDbM4FxefewUmmZnDJ1fNPQGGAT4KwyinqOHYB3Am8ndgHk7wLvAi4CsH177qRSGQJsT8j1p/a3vVdpPZXwXCLpPbY7vgBylzMtp+4YQNISpQW1wTBJSwPDmt7PcixFac1e1zyVhUBNwVpIVCdSd7Ahs3Plx0rCdl10Di0vSFoMmCjp28CjQCQDo9IhSFqPFI30QeB+oKZrYZHYAAAcP0lEQVQsDBG5gO15ku6yfXtpPQuC7Yel5s3n2Wkwlf8+tmdKWkbSYranldZTCc0hwBGSXgKmM7srWE2XH1p+IemHwFKS9icV4T29sKZWGU3aGGk8FJrTjgysMuSKBk9d81QWhFUkXUS6FxrvZ1HTzVunOpGCI+lsYFVgIrMXCaZGLgw1HyHt8HyaFG77BlIXiUplQHI++YeY3WL056SaddsUFda7/E3Sp4A30RT6H6iQ7cM5pc3ZuX0wcFdhTb3IA8CN2Uh9vjFo+/h5fqNS6YPtKClTXY3t/5O0LTAZWBP4iu0rC8tqCdsrldawMKhrnspC4P1N72vK+QJQC2sHJxeZW9t1Iosi6RDbJww0Vqn0h6SXSYVTP9bonCXpPtuRdge7Bkm/BO4mRYQdS2qvfZftQ4oKa5Hcne0EUmpeo7X8Ibb/XVRYj5EL8c6F7WOGWkslHpLeaPtuSf0W+Y9QxLZbyOmpl9t+Z2ktvUxd81QqnUN1IgUnL3YOtv1oaS29TH/dnCTdZnv9UpoqcZC0EykSaXNSd7bzgB/ZXrmosB6lce9KmmR7XUmLkhYQby+tbX5I2sj2LaV1VOZE0hKNLjaVSqtIOs32AZKu6edjd/rvUbeRIwo/Yvu50lp6lbrmqVQ6h5rOFp/XAH+VdDMwq7hczekcGiTtQYpWWLlPXu2SpLSkSmVAbF8AXJALdX6AlBK5nKRTgAtsX1FUYO8xPf99VtI6wGOkGgydzumSRgLnAufarilsBZG0GXAGtUteZRDYPiD/rWnNncFU4A5JVzJnemqIrp1dQl3zVCodQo1ECo6krfsbtz1+qLX0IpJWBFYmtYj8QtNHU4BJtmcUEVYJj6RXkdqP7l53nIcWSf9DKmi+LjCO5AT4iu1TiwprAUlrkqLadgemkRxK59l+sKiwHkTSn4BdgYsaUamS7rS9TllllWjkGmcr0bT5W4sJDy2S9ulv3PaZQ61lsEg62/ZHBhrrVOqap1LpHKoTqVKpVCqVLiRHvnyI1OnvMdtbFJbUU0j6k+1NmlObJd1ue2xpbZU4zKuYcI2AGRokjbH9UGkdC4O+pRdyrac7bK9dUFalMmRIuphUjL1falRb69R0tqBImkL/N0Ft/TqE1HmoVLoPScsB3wBWsL29pLWBzWyfUVhay0gaBiwLLAcsATxZVlFPUrvkVRYGG1GLCZfkQmADAEnn296lsJ62kfRF4AhgcUmTG8OkaNXTiglrkWprVxYitSPbQqJGIlUqlUql0oSk35HS2L5ke6ykRYDbbL+5sLQBkfRWYA9Sba07SUXaz6/FYIee2iWvsjCoxYTL0ieSMHTDFEnftP3F0joqlUp8aiRSpVKpVCpz8hrbv8i7t9ieIWnmQF8qjaSHgYdIjqNjbD9eWFJPY/spYM/SOioxaUq7WJJaTLgknsf7iFzS6BYpaS9ShNUJtWZepdeQdD/93M+2VykgJyTViVSpVCqVypw8L+nVZAND0qZAhEieLetioHOQtDJwEHMXRK6L/0or1LSLzmBsTgETc6eDRUulOoV0PmOBw0ndI88C+i1YXal0MRs1vR9BamTzqkJaQlLT2SqVSqVSaULSBsCJwDqklLBlgF1tTyoqrBIKSbeTFml3AC83xmsnoUorSFoNWM72jX3GtwL+afsfZZRVotIorC3pK6Rr6Iy+xbYrlV5F0g22tyytIwo1EqlSqVQqlSZs35pbCa9J2m3+m+3phWVV4jHV9vdLi6iE5XukYsh9eSF/tuPQyql0AVNymvZewFa5O9uihTVVKkNO3ixsMIwUmbRkITkhqZFIlUqlUqkAkjYGHrb9WD7eG9gFeBA42vbTJfUNhKQ9gCtq4ebOQNKHgdVJBbWba9ncWkxUJQyS7rS9zjw+uyNCof9KZyHptcCHgT/bvl7SGOBtts8qLK0lJO0MfIvUeVTETCmsdACSrmk6nAE8APyf7b+VURSP6kSqVCqVSoUU6g+80/bTOWXkPFJNm/WAtWzvWlTgAEj6ArAdaWf5KuB3wM21NXgZJH0T+AjwD2ans9n228upqkRB0r22V2v3s0qlW5F0L7Cj7btKa6lUep3qRKpUKpVKhVTDxvbY/P4HwJO2j87HE22vV1Jfq0haktRW/t3AW4C7gMuAy2vHtqFD0t3AuranldZSiYekc4GrbZ/eZ/xjwHa2dy+jrBKV3CTiRGAtYDFgOPAf26OLCmsRSTfa3qK0jkp8JI0GjgK2ykPjgWNtR2ii0hFUJ1KlUqlUKqT0EWA92zOyA+AA29c1PptXakmnI2ltYHvSwvNdpfX0CpJ+Dhxk+4nSWirxkLQccAEwDZiQhzciLf53aqTdViqtIukW4EPAL0nX0t7A6rb7q73VMeQ0Nkhd5F4LXMicKcK/LqGrEhdJ55Map5yZhz4CjLW987y/VWmmOpEqlUqlUgEkfQl4D/AUMAbYwLZzl6Qz6w5opR0kXQusC/yZORc87yulqRIPSduQOkUC/MX21SX1VOIi6RbbG0maZHvdPPYH25uX1jY/JI2bz8e2vd+Qial0Bf1Fl0eKOO8Eane2SqVSqVQA21+XdBWwPKlAdWOXZRipNlKl0g5HlRZQiY/ta4BrBvyHlcrAvCBpMWCipG8DjwJLFNY0ILb3BZC0he0bmz+TVDd3KoPhRUlb2r4BZl1HLxbWFIoaiVSpVCqVSqXyXyYbqR+2/anSWiqVSu8haUXgcVJK5GHAaOBk2/cWFdYikm61vcFAY5XKQEgaC5xFugcEPA181PbtRYUFokYiVSqVSqXSZUgaDixH03Pe9kPlFPUmktYjtdT+IHA/cH5ZRZVKpdeQNMb2Q7YfzENTgWNKamoHSZsBmwPLSPpM00ejSMXBK5W2yM6isZJG5ePJhSWFozqRKpVKpVLpIiQdREqlepym1vKk+jyV/zKS1iAVr90D+Dfwc1Lk9zZFhVUqlV7lQmADSAWFbe9SWE+7LAaMJK1bl2wanwzsWkRRJSSSdgQmNTlUDwV2kfQgcIjt+8upi0VNZ6tUKpVKpYuQdC+wie1/l9bSi0h6Gbge+FgjTUTSfbZXKausUqn0IpJus71+3/fRkLRi0+K/UmkbSZOATW2/IGkH4HjShs/6wG61g23r1EikSqVSqVS6i4eB50qL6GF2IUUiXSPpMuA8Us2FSqVSKYHn8T4aP5E0l37bby8hphIS234hv98ZOMP2BGCCpAML6gpHdSJVKpVKpdJd3AdcK+lS5mwtf3w5Sb2D7QuACyQtAXyAVMB2OUmnABfYvqKowEql0muMlTSZ5MxePL8nH9v2qHLS2uKzTe9HkBz2MwppqcREkkYCLwDvAE5u+mxEGUkxqU6kSqVSqVS6i4fya7H8qhTA9vPAOcA5kl4F7AZ8AahOpEqlMmTY7ori0zlipJkbJY0vIqYSle8BE0n1tO6yfQuApPWBR0sKi0atiVSpVCqVSqVSqVQqlY4lO+MbDAM2BL5ve81CkioBkfQ6YFngdtsv57HlgUVrF9vWqU6kSqVSqVS6CEnLAIcDb6IpPLvWjahUKpVKVCTd///bu/d4z+Z6j+Ov9wzHuE1SQmFQ4aQIKZWHQteDOi6VU6mILuqk21FUx6U6B9WpR6gz49TowriTLo7ci9zGJSUpNZRCGSfkMoY+54+1dn5+9rbHGNb+/eb1fDz247fXd33XWu+1No/Hns/+fr+LZk2n0ExjmwMcWFXndxpMWgw5nU2SpOFyFM1r5bcF3gO8Hfhzp4kkSXoMqmqtrjNIajgSSZKkIZLksqraJMlVVbVB23ZeVb2s62ySJC2MJEsC7wW2aJvOBaZX1fzOQkmLKUciSZI0XEZ+ob4pyTbAH4HVOswjSdJj9VVgSR58o9YubdvunSXSQEkyG7gAOA04t6ru7TjSwHIkkiRJQyTJtsCPgdWBQ4GpwAFVdWqnwSRJWkhJflpVG47XJo0lyRLA5sBrgC2BucDpwGlV9asusw0ai0iSJEmSpAkryeXAG6rqN+322sAJVbVxt8k0qNq3sr2Wpqj0LOCiqtqz21SDwSKSJElDIMneVXVIkkNp3mDzEFX1gQ5iSZL0mCXZGpgJ/JbmDW3TgF2r6pxOg2koJJkEvLiqLug6yyBwTSRJkobDNe3n7E5TSJK0iFXVWUmeDaxLU0T6ZVXN6ziWhkRV/Y1mvSQtAItIkiQNgar6bpLJwHOr6t+6ziNJ0mOVZFPg91V1c1XNS/J8YEfghiT7V9VtHUeUFjuTug4gSZIWjap6ANik6xySJC0i04H7AJJsARwEfBO4HZjRYS5pseVIJEmShssVSU4FjgfuGmmsqpO6iyRJ0kKZ3DPa6E3AjKo6ETgxyZUd5tKASrISsAewJj31kKraratMg8YikiRJw2VFmtfWbtXTVoBFJEnSoJmcZImquh/YGnhXzz7/LauF8R3gx8CZwAMdZxlI/o8nSdIQqapdu84gSdIiMgs4L8mtwD00//gnybNoprRJj9YyVfWxrkMMslQ97C3AkiRpQCWZArwTWB+YMtLuMG1J0iBKshmwKvDDqrqrbVsHWK6qLu80nAZOks8AP6mqH3SdZVBZRJIkaYgkOR74JfBm4EDgLcA1VbVXp8EkSZI6luROYFlgHjAfCFBVNbXTYAPEIpIkSUMkyRVVtVGSq6pqgyRLAqdX1VbjHixJkjSkkgRYvap+13WWQTap6wCSJGmRmt9+/iXJc4En0byBRJIkabFVzQiak7vOMegsIkmSNFxmJHky8EngVOAXwMHdRpIkSZoQLkqyadchBpnT2SRJGiJJ1qqqOeO1SZIkLW6S/AJYF7geuIsH10TaoMtcg8QikiRJQyTJ5VW1cV/bZVW1SVeZJEmSJoIk00Zrr6obnugsg2qJrgNIkqTHLsl6wPrAk5Ls0LNrKjClm1SSJEkTR1XdkGRz4NlVNTPJSsByXecaJBaRJEkaDusC2wIrANv1tN8J7NFJIkmSpAkkyX7AC2h+b5oJLAl8G3hpl7kGidPZJEkaIkleXFUXdp1DkiRpoklyJbARcHlVbdS2XeWaSAvOt7NJkjRc5iY5K8nPAZJskOSTXYeSJEmaAO6rZiRNASRZtuM8A8cikiRJw+UIYB9gPkBVXQXs3GkiSZKkieG4JNOBFZLsAZxJ87uTFpBrIkmSNFyWqapLkvS23d9VGEmSpImiqj6f5JXAHTTrIv17VZ3RcayBYhFJkqThcmuSZ/LgMO2dgJu6jSRJkjQxtEUjC0cLyYW1JUkaIknWBmYALwH+D5gDvLWqru8ylyRJUteS7AAcDDwNSPtVVTW102ADxCKSJElDqF0oclJV3dl1FkmSpIkgyXXAdlV1TddZBpXT2SRJGiJJPty3DXA7cFlVXdlJKEmSpInhFgtIj40jkSRJGiJJjgZeAHy3bdoGuBRYDzi+qg7pKpskSVIX2mlsAC8DVgFOAeaN7K+qk7rINYgsIkmSNESSnA7sWFV/bbeXA04AtqcZjfScLvNJkiQ90ZLMfITdVVW7PWFhBpzT2SRJGi5rAPf1bM8HplXVPUnmjXGMJEnS0KqqXQGSvLSqLujdl+Sl3aQaTBaRJEkaLkcDFyX5Tru9HTCrXWj7F93FkiRJ6tyhwMYL0KYxOJ1NkqQhk2QTYHOa19aeX1WzO44kSZLUmSQvBl4CfBD4Ys+uqcD2VbVhJ8EGkCORJEkaPksDd1TVzCQrJVmrquZ0HUqSJKkj/wAsR1MDWb6n/Q5gp04SDShHIkmSNESS7EfzdrZ1q2qdJE+neSub8/0lSdJiLcm0qrqh6xyDzJFIkiQNl+2BjYDLAarqj0mWf+RDJEmSFgtHJnnYSJqq2qqLMIPIIpIkScPlvqqqkV+Q2gW1JUmSBB/t+X4KsCNwf0dZBpJFJEmShstxSaYDKyTZA9gNOKLjTJIkSZ2rqsv6mi5Icl4nYQaUayJJkjRkkrwSeBXN29lOr6ozOo4kSZLUuSQr9mxOAjYBvlxV63YUaeBYRJIkaQgkOQw4uqp+0nUWSZKkiSjJHKBo/tB2PzAHOLCqzu802ABxOpskScPh18AXkqwKHAvMqqorO84kSZI0YVTVWl1nGHSORJIkaYgkmQbs3H5NAWYBx1TVrzoNJkmS1LEkSwLvBbZom84FplfV/M5CDRiLSJIkDakkGwFfBzaoqsld55EkSepSkv8BlgS+0TbtAjxQVbt3l2qwOJ1NkqQh0v6F7TU0I5G2Bs4DDug0lCRJ0sSwaVVt2LN9dpKfdpZmAFlEkiRpCLRvZPsXYBvgEuAY4F1VdVenwSRJkiaOB5I8s6p+A5BkbeCBjjMNFKezSZI0BJKcAxwNnFhVt3WdR5IkaaJJsjUwE/gtzRvapgG7VtU5nQYbIBaRJEmSJEnSYiHJUsC6NEWkX1bVvI4jDZRJXQeQJEmSJEl6vCTZNMkqAG3R6PnAgcDnkqzYabgBYxFJkiRJkiQNs+nAfQBJtgAOAr4J3A7M6DDXwHFhbUmSJEmSNMwm96wZ+SZgRlWdCJyY5MoOcw0cRyJJkiRJkqRhNjnJyCCarYGze/Y5uOZR8GFJkiRJkqRhNgs4L8mtwD3AjwGSPItmSpsWkG9nkyRJkiRJQy3JZsCqwA+r6q62bR1guaq6vNNwA8QikiRJkiRJksblmkiSJEmSJEkal0UkSZIkSZIkjcsikiRJetSS7J+kRvk68wm6/nLt9d6xCM61f7vQ5tBIsk57Xyt0nUWSJA0P384mSZIW1u3Aa0ZpU/fWAfYDjgT+0m0USZI0LCwiSZKkhXV/VV3UdQgNliRLV9U9XeeQJEmPntPZJEnS4yLJMkm+nOTmJPcmuTTJq0bp9/4kv04yL8l1ST40Sp8dk/wqyT1JfgSstwDXX7Od8vbmJN9KcmeSPyXZb5zjlk1yWJJrk9ydZE6Sw5NM7es3Ock+ba55SW5McmRfn9cnmd3e/81JDkmy5AJk3z7JJe39zk3ygyTT2n3rJTkmye/bfFcn+WCSSe3+lwPfbU81p30G1/ece432+Nva409Psm7f9ddIclp7/TlJ3pHkhCTn9vXbKsnF7f3dkuQrSZbr2f/y9vqvTnJqkr8ChyU5Psk5o9z3Ae15xn1GkiTpiedIJEmStNCS9P8u8UBVVfv9EcDrgH2B64A9gO8n2bKqzm+P3wM4FPgv4HRgS+ALSZaqqoPaPhsDxwInA3sB6wPHPYqYnwO+B+wEbAHsl+TWqjp8jP7LAJOBTwB/BlZvvz8eeHVPv+nA24BDgPOAFdtr0OZ+IzCr7bcv8EzgP2n+iPfRscIm2QX4JnAM8GkgwFbASsANwDOAa4GjgDuB5wMHAEu357+8Pf/ngR2Am4B57blXBM4H5gLvAe4GPg6cmWSdqronSYBTgRWA3YB7gU+11/9NT87nAP8LnAHs2D6ng4C1efg0x68BM4EvtedbHjgtyVpVNac9X9rn+e2qmj/W85EkSd3Jg7/nSZIkLZgk+9OsudPvlVV1ZpJ/BK4Gdq2qb7THTAKuAv5QVa9ut38P/LCqdu0591eAtwArV9W9SY4DngusP1KgSvIJ4DPt+Y8cI+OawBzgjKp6VU/7EcA/AatX1d/ae3l/VT11jPMsAbyIpvgyrap+l2Q94Bpgr6r68ijHBLgeOLvv3nYDDgdWq6q5oxw38kwurqodRsszynUmA3sDu1fV2m37tjSjkdaqqut7+n8a2BN4dlXd1rY9uc26b1UdnmQbmqLbi6rqkrbPM9o+F1TVy9u2Y4BNgPWq6oG27Y00Bb+XVNWF7aioc4AvVdWHenJMovnZHFlV+7VtWwFnAc+rqp+Pd++SJOmJ53Q2SZK0sG4HNu37urjdtynNCJrjRzpX1d/a7c3bptWAp/f2aR0LTAWe126/EDi1HvqXr5MeRc6T+7ZPaq+72lgHJNklyRXt9Kv5NAUkaBashmbEFDQLV49mHWAN4LgkS4x8AWcDU2iKYqNZt8028xGyTWmnfV1HM8JoPvBZYK1RRob1ewXNyKE7ejLdCVwGvKDtsylw80gBCaCq/tD26fVC4OSRAlLrROB+HvwZj/h+70b738KRwNvaQhjAO4DZFpAkSZq4LCJJkqSFdX9Vze77urPdtyrw16q6u++YW4BlkizV9hlp6+8DzfQwgFWAP/X16d9+JGMdu2p/R2jWI6KZTnYh8AZgM2D7dveU9vMpwF1VdccY1xwZ1fQDmiLPyNectn31MY57Svt50xj7AQ6mma42g2ZE1aY0o7J6843lqcCb+jLNpymKjWRahWYaX7/+tlXp+9m1BaW5PPizG9H/M4amUDYN2DLJ8jRT4r4+Tn5JktQh10SSJEmPh5uA5ZIs01dIWhm4u6rmJRkplDyt79iV28/b2s+bR+nTv/1Ixjp2rELNG2imk+050pDkZX195gLLJpk6RiFpJPu7gCtG2T9nlLaR88IYBa6efIdW1SE9+bZ5hP79uU6lWWup30gB8Gaa9Y/6rUSzntGIm+h7tkkm0xTCbuOhHrZ+QlVdn+RMmhFIa9H8cXPWuHcgSZI640gkSZL0eLiUpnDQu9B02u2RqWE3An+kKYr0eiNwB/CznnO9rmfaEzQLRi+o7fu2RxabvnGM/kvTLkTd4y1922e3n28b4xzXAn8A1hxltNbs0dZD6jvu7WPsf1i+tnCzc1+f+9rP/pFJZ9EsTH71KJmubftcCqyS5IU913gGzfpHvS4Gtm+vP2IHmj9Sns+C+RrNCKQ9gVOq6i8LeJwkSeqAI5EkSdIiV1XXJJlF8zr3qTz4drb1gPe2fUYWtZ6eZC7NWj0va/fvW1Ujo14OpilYHJfkazTrCb3zUcRZP8l0mvV6tmiP3atdl2c0ZwCHt4t3X0wzZWzrvvu7NskMmjfJPQ34Ec3bzHaqqp3be/sI8K32/k+jKeysDfxz269/qt/IM9kbOCrJUTQjc4rm7Wyzqmp2m+997ZpItwHvA5bqO9VIQejd7QLYd1fVz2jegvdW4Owkh9IUrFamee7nV9Usmil4P6V53vsA99Ason4L0PvMPkMzyuqUJF+lWWPqYOD0qrpwjGfb7xTgK8DGwD4LeIwkSeqIRSRJkvR42YOmqPApmgLLz4Btq+rvo1Sq6oh2faQPAnvRjA76SFV9safP7CQ707y+/hRgNs26Pn9f+HkcewPb0hSR7qWZynXYI/SfTlPs2YtmJM8ZwJuBi/r67QncAOwOfJxmraUzenIfm+QOYF9gN+AB4Lc0bz67jzFU1dFJ7gU+AZwA3NVee2RNon8F/pvmLW/3AN+gWTx8Rs85bkjyUeADbf8baUZF3ZpkM5qFuL9I83O5iWbk0FXtsZXk9e1zmElTPPoszSiyu3uucXWS1wL/QbNY+R00Ra+9x7q3Ue51XpLTaIp7Zy7ocZIkqRt56ItOJEmShkOSNWnWHtquqr7XbZrBluRJNAWww6pqv0V43iVoCnFfr6pPLarzSpKkx4cjkSRJkvQQSd5DM3Xt1zQLan+YZsrcInl7WpJ/ADakGeH1FJpRT5IkaYKziCRJkqR+84CPAWvQrMl0CfCKqrphEZ3/6e05/wS8u6rGWuRckiRNIE5nkyRJkiRJ0rgmdR1AkiRJkiRJE59FJEmSJEmSJI3LIpIkSZIkSZLGZRFJkiRJkiRJ47KIJEmSJEmSpHFZRJIkSZIkSdK4/h+aMInGYCXIhAAAAABJRU5ErkJggg==\n",
      "text/plain": [
       "<Figure size 1440x720 with 1 Axes>"
      ]
     },
     "metadata": {
      "needs_background": "light"
     },
     "output_type": "display_data"
    }
   ],
   "source": [
    "foodPlace_distribution = mergedDf['categories'].value_counts()\n",
    "colors = cm.rainbow(np.linspace(0, 1, len(foodPlace_distribution.index)))\n",
    "plt.figure(figsize = (20, 10))\n",
    "plt.xticks(rotation = 90)\n",
    "plt.xlabel(\"Food place category\", fontsize = 15)\n",
    "plt.ylabel(\"Count\", fontsize = 15)\n",
    "plt.title(\"Food place category vs Count Plot\", fontsize = 16)\n",
    "plt.bar(foodPlace_distribution.index, foodPlace_distribution.values, color = colors)"
   ]
  },
  {
   "cell_type": "markdown",
   "metadata": {},
   "source": [
    "From this plot we can understand that the 3 most popular categories of Eateries in Pune are **Indian Restaurants**, **Cafe** and **Italian Restaurants**"
   ]
  },
  {
   "cell_type": "markdown",
   "metadata": {},
   "source": [
    "Now we will plot the Price Category vs Count plot to get idea of Price category of majority of restaurants."
   ]
  },
  {
   "cell_type": "code",
   "execution_count": 14,
   "metadata": {},
   "outputs": [
    {
     "data": {
      "text/plain": [
       "<BarContainer object of 4 artists>"
      ]
     },
     "execution_count": 14,
     "metadata": {},
     "output_type": "execute_result"
    },
    {
     "data": {
      "image/png": "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\n",
      "text/plain": [
       "<Figure size 1440x720 with 1 Axes>"
      ]
     },
     "metadata": {
      "needs_background": "light"
     },
     "output_type": "display_data"
    }
   ],
   "source": [
    "price_distribution = mergedDf['Price_Range'].value_counts()\n",
    "colors = cm.rainbow(np.linspace(0, 1, len(price_distribution.index)))\n",
    "plt.figure(figsize = (20, 10))\n",
    "plt.xticks(rotation = 90)\n",
    "plt.xlabel(\"Price category\", fontsize = 15)\n",
    "plt.ylabel(\"Count\", fontsize = 15)\n",
    "plt.title(\"Price category vs Count Plot\", fontsize = 16)\n",
    "plt.bar(price_distribution.index, price_distribution.values, color = colors)"
   ]
  },
  {
   "cell_type": "markdown",
   "metadata": {},
   "source": [
    "From this plot we can understand that the **majority** restaurants in Pune are **Moderately priced** or **Cheaply priced**.\n",
    "There are very few Expensive/Very Expensive restaurants in Pune"
   ]
  },
  {
   "cell_type": "markdown",
   "metadata": {},
   "source": [
    "**Data Preprocessing**\n",
    "\n",
    "Now we will **prepare the data** so that we can apply it to the **Clustering model**\n",
    "\n",
    "First we will convert the type of the required column value to **Integer/Float**"
   ]
  },
  {
   "cell_type": "code",
   "execution_count": 15,
   "metadata": {},
   "outputs": [
    {
     "data": {
      "text/plain": [
       "id              object\n",
       "Rating         float64\n",
       "Price_Tier     float64\n",
       "Price_Range     object\n",
       "name            object\n",
       "categories      object\n",
       "lat            float64\n",
       "lng            float64\n",
       "crossStreet     object\n",
       "dtype: object"
      ]
     },
     "execution_count": 15,
     "metadata": {},
     "output_type": "execute_result"
    }
   ],
   "source": [
    "mergedDf = mergedDf.astype({\"Price_Tier\": float})\n",
    "mergedDf.dtypes"
   ]
  },
  {
   "cell_type": "markdown",
   "metadata": {},
   "source": [
    "We will only require the **Rating and Price_Tier** column for clustering.\n",
    "\n",
    "So we will remove the other columns"
   ]
  },
  {
   "cell_type": "code",
   "execution_count": 16,
   "metadata": {},
   "outputs": [
    {
     "data": {
      "text/html": [
       "<div>\n",
       "<style scoped>\n",
       "    .dataframe tbody tr th:only-of-type {\n",
       "        vertical-align: middle;\n",
       "    }\n",
       "\n",
       "    .dataframe tbody tr th {\n",
       "        vertical-align: top;\n",
       "    }\n",
       "\n",
       "    .dataframe thead th {\n",
       "        text-align: right;\n",
       "    }\n",
       "</style>\n",
       "<table border=\"1\" class=\"dataframe\">\n",
       "  <thead>\n",
       "    <tr style=\"text-align: right;\">\n",
       "      <th></th>\n",
       "      <th>Rating</th>\n",
       "      <th>Price_Tier</th>\n",
       "    </tr>\n",
       "  </thead>\n",
       "  <tbody>\n",
       "    <tr>\n",
       "      <th>0</th>\n",
       "      <td>8.5</td>\n",
       "      <td>1.0</td>\n",
       "    </tr>\n",
       "    <tr>\n",
       "      <th>1</th>\n",
       "      <td>8.4</td>\n",
       "      <td>1.0</td>\n",
       "    </tr>\n",
       "    <tr>\n",
       "      <th>2</th>\n",
       "      <td>8.3</td>\n",
       "      <td>2.0</td>\n",
       "    </tr>\n",
       "    <tr>\n",
       "      <th>3</th>\n",
       "      <td>8.6</td>\n",
       "      <td>2.0</td>\n",
       "    </tr>\n",
       "    <tr>\n",
       "      <th>4</th>\n",
       "      <td>8.2</td>\n",
       "      <td>2.0</td>\n",
       "    </tr>\n",
       "  </tbody>\n",
       "</table>\n",
       "</div>"
      ],
      "text/plain": [
       "   Rating  Price_Tier\n",
       "0     8.5         1.0\n",
       "1     8.4         1.0\n",
       "2     8.3         2.0\n",
       "3     8.6         2.0\n",
       "4     8.2         2.0"
      ]
     },
     "execution_count": 16,
     "metadata": {},
     "output_type": "execute_result"
    }
   ],
   "source": [
    "dfForClustering = mergedDf.drop(['id','Price_Range','name','categories','lat','lng','crossStreet'], axis=1)\n",
    "dfForClustering.head()"
   ]
  },
  {
   "cell_type": "markdown",
   "metadata": {},
   "source": [
    "Now let's normalize the dataset.  Normalization is a statistical method that helps mathematical-based algorithms interpret features with different magnitudes and distributions equally. We use **StandardScaler()** to normalize our dataset."
   ]
  },
  {
   "cell_type": "code",
   "execution_count": 17,
   "metadata": {},
   "outputs": [],
   "source": [
    "from sklearn.preprocessing import StandardScaler\n",
    "\n",
    "X = dfForClustering.values[:,1:]\n",
    "X = np.nan_to_num(X)\n",
    "cluster_dataset = StandardScaler().fit_transform(X)"
   ]
  },
  {
   "cell_type": "markdown",
   "metadata": {},
   "source": [
    "### Modeling"
   ]
  },
  {
   "cell_type": "markdown",
   "metadata": {},
   "source": [
    "Let's run our model and group the restaurants into 3 clusters"
   ]
  },
  {
   "cell_type": "code",
   "execution_count": 18,
   "metadata": {},
   "outputs": [
    {
     "name": "stdout",
     "output_type": "stream",
     "text": [
      "[0 0 1 1 1 0 1 0 1 1 0 0 2 1 0 1 1 1 2 2 1 1 0 0 0 1 0 1 1 1 1 0 1 0 0 0 1\n",
      " 1 1 0 1 1 1 2 0 0 1 1 0 1 1 1 1 0 0 2 1 0 0 1 1 0 0 0]\n"
     ]
    }
   ],
   "source": [
    "from sklearn.cluster import KMeans \n",
    "num_clusters = 3\n",
    "\n",
    "k_means = KMeans(init=\"k-means++\", n_clusters=num_clusters, n_init=16, random_state = 0)\n",
    "k_means.fit(cluster_dataset)\n",
    "labels = k_means.labels_\n",
    "\n",
    "print(labels)"
   ]
  },
  {
   "cell_type": "markdown",
   "metadata": {},
   "source": [
    "Note that each row in our dataset represents a restaurant, and therefore, each row is assigned a label."
   ]
  },
  {
   "cell_type": "code",
   "execution_count": 19,
   "metadata": {},
   "outputs": [
    {
     "data": {
      "text/html": [
       "<div>\n",
       "<style scoped>\n",
       "    .dataframe tbody tr th:only-of-type {\n",
       "        vertical-align: middle;\n",
       "    }\n",
       "\n",
       "    .dataframe tbody tr th {\n",
       "        vertical-align: top;\n",
       "    }\n",
       "\n",
       "    .dataframe thead th {\n",
       "        text-align: right;\n",
       "    }\n",
       "</style>\n",
       "<table border=\"1\" class=\"dataframe\">\n",
       "  <thead>\n",
       "    <tr style=\"text-align: right;\">\n",
       "      <th></th>\n",
       "      <th>id</th>\n",
       "      <th>Rating</th>\n",
       "      <th>Price_Tier</th>\n",
       "      <th>Price_Range</th>\n",
       "      <th>name</th>\n",
       "      <th>categories</th>\n",
       "      <th>lat</th>\n",
       "      <th>lng</th>\n",
       "      <th>crossStreet</th>\n",
       "      <th>Labels</th>\n",
       "    </tr>\n",
       "  </thead>\n",
       "  <tbody>\n",
       "    <tr>\n",
       "      <th>0</th>\n",
       "      <td>4b9b583cf964a520aa0136e3</td>\n",
       "      <td>8.5</td>\n",
       "      <td>1.0</td>\n",
       "      <td>Cheap</td>\n",
       "      <td>Café GoodLuck</td>\n",
       "      <td>Café</td>\n",
       "      <td>18.517388</td>\n",
       "      <td>73.841485</td>\n",
       "      <td>Corner of FC Road and Bhandarkar Road</td>\n",
       "      <td>0</td>\n",
       "    </tr>\n",
       "    <tr>\n",
       "      <th>1</th>\n",
       "      <td>4de24c587d8b2547eaffe58b</td>\n",
       "      <td>8.4</td>\n",
       "      <td>1.0</td>\n",
       "      <td>Cheap</td>\n",
       "      <td>Tilak Hotel</td>\n",
       "      <td>Snack Place</td>\n",
       "      <td>18.509603</td>\n",
       "      <td>73.846883</td>\n",
       "      <td>Tilak road</td>\n",
       "      <td>0</td>\n",
       "    </tr>\n",
       "    <tr>\n",
       "      <th>2</th>\n",
       "      <td>4f016c4629c201c6fec99a78</td>\n",
       "      <td>8.3</td>\n",
       "      <td>2.0</td>\n",
       "      <td>Moderate</td>\n",
       "      <td>Barbeque Nation</td>\n",
       "      <td>BBQ Joint</td>\n",
       "      <td>18.516237</td>\n",
       "      <td>73.842223</td>\n",
       "      <td>Jangali Maharaj Road</td>\n",
       "      <td>1</td>\n",
       "    </tr>\n",
       "    <tr>\n",
       "      <th>3</th>\n",
       "      <td>4de0a8e918380dc4dd35585c</td>\n",
       "      <td>8.6</td>\n",
       "      <td>2.0</td>\n",
       "      <td>Moderate</td>\n",
       "      <td>Spice Kitchen</td>\n",
       "      <td>Asian Restaurant</td>\n",
       "      <td>18.531887</td>\n",
       "      <td>73.829571</td>\n",
       "      <td>Senapati Bapat Road</td>\n",
       "      <td>1</td>\n",
       "    </tr>\n",
       "    <tr>\n",
       "      <th>4</th>\n",
       "      <td>4b5ffe7df964a520c9d229e3</td>\n",
       "      <td>8.2</td>\n",
       "      <td>2.0</td>\n",
       "      <td>Moderate</td>\n",
       "      <td>Hotel Roopali</td>\n",
       "      <td>Indian Restaurant</td>\n",
       "      <td>18.519343</td>\n",
       "      <td>73.841334</td>\n",
       "      <td>Sudhabhau Kelkar Road</td>\n",
       "      <td>1</td>\n",
       "    </tr>\n",
       "  </tbody>\n",
       "</table>\n",
       "</div>"
      ],
      "text/plain": [
       "                         id  Rating  Price_Tier Price_Range             name  \\\n",
       "0  4b9b583cf964a520aa0136e3     8.5         1.0       Cheap    Café GoodLuck   \n",
       "1  4de24c587d8b2547eaffe58b     8.4         1.0       Cheap      Tilak Hotel   \n",
       "2  4f016c4629c201c6fec99a78     8.3         2.0    Moderate  Barbeque Nation   \n",
       "3  4de0a8e918380dc4dd35585c     8.6         2.0    Moderate    Spice Kitchen   \n",
       "4  4b5ffe7df964a520c9d229e3     8.2         2.0    Moderate    Hotel Roopali   \n",
       "\n",
       "          categories        lat        lng  \\\n",
       "0               Café  18.517388  73.841485   \n",
       "1        Snack Place  18.509603  73.846883   \n",
       "2          BBQ Joint  18.516237  73.842223   \n",
       "3   Asian Restaurant  18.531887  73.829571   \n",
       "4  Indian Restaurant  18.519343  73.841334   \n",
       "\n",
       "                             crossStreet  Labels  \n",
       "0  Corner of FC Road and Bhandarkar Road       0  \n",
       "1                             Tilak road       0  \n",
       "2                   Jangali Maharaj Road       1  \n",
       "3                    Senapati Bapat Road       1  \n",
       "4                  Sudhabhau Kelkar Road       1  "
      ]
     },
     "execution_count": 19,
     "metadata": {},
     "output_type": "execute_result"
    }
   ],
   "source": [
    "mergedDfWithLabels = mergedDf\n",
    "mergedDfWithLabels[\"Labels\"] = labels\n",
    "mergedDfWithLabels.head(5)"
   ]
  },
  {
   "cell_type": "markdown",
   "metadata": {},
   "source": [
    "Now we will group the dataset by **Labels** and acquire the **average** value of **Rating and Price_Tier** for each Cluster."
   ]
  },
  {
   "cell_type": "code",
   "execution_count": 20,
   "metadata": {},
   "outputs": [
    {
     "data": {
      "text/html": [
       "<div>\n",
       "<style scoped>\n",
       "    .dataframe tbody tr th:only-of-type {\n",
       "        vertical-align: middle;\n",
       "    }\n",
       "\n",
       "    .dataframe tbody tr th {\n",
       "        vertical-align: top;\n",
       "    }\n",
       "\n",
       "    .dataframe thead th {\n",
       "        text-align: right;\n",
       "    }\n",
       "</style>\n",
       "<table border=\"1\" class=\"dataframe\">\n",
       "  <thead>\n",
       "    <tr style=\"text-align: right;\">\n",
       "      <th></th>\n",
       "      <th>Rating</th>\n",
       "      <th>Price_Tier</th>\n",
       "      <th>lat</th>\n",
       "      <th>lng</th>\n",
       "    </tr>\n",
       "    <tr>\n",
       "      <th>Labels</th>\n",
       "      <th></th>\n",
       "      <th></th>\n",
       "      <th></th>\n",
       "      <th></th>\n",
       "    </tr>\n",
       "  </thead>\n",
       "  <tbody>\n",
       "    <tr>\n",
       "      <th>0</th>\n",
       "      <td>8.003846</td>\n",
       "      <td>1.0</td>\n",
       "      <td>18.513081</td>\n",
       "      <td>73.864331</td>\n",
       "    </tr>\n",
       "    <tr>\n",
       "      <th>1</th>\n",
       "      <td>7.972727</td>\n",
       "      <td>2.0</td>\n",
       "      <td>18.527074</td>\n",
       "      <td>73.860307</td>\n",
       "    </tr>\n",
       "    <tr>\n",
       "      <th>2</th>\n",
       "      <td>7.940000</td>\n",
       "      <td>3.2</td>\n",
       "      <td>18.522934</td>\n",
       "      <td>73.862012</td>\n",
       "    </tr>\n",
       "  </tbody>\n",
       "</table>\n",
       "</div>"
      ],
      "text/plain": [
       "          Rating  Price_Tier        lat        lng\n",
       "Labels                                            \n",
       "0       8.003846         1.0  18.513081  73.864331\n",
       "1       7.972727         2.0  18.527074  73.860307\n",
       "2       7.940000         3.2  18.522934  73.862012"
      ]
     },
     "execution_count": 20,
     "metadata": {},
     "output_type": "execute_result"
    }
   ],
   "source": [
    "mergedDfWithLabels.groupby('Labels').mean()"
   ]
  },
  {
   "cell_type": "markdown",
   "metadata": {},
   "source": [
    "Now we can create a profile for each group, considering the common characteristics of each cluster. \n",
    "For example, the 3 clusters can be:\n",
    "\n",
    "- Cheaply priced Restaurants\n",
    "- Moderately priced Restaurants\n",
    "- Expensive/Very Expensive Restaurants\n",
    "\n",
    "Also we can conclude that the ratings of restaurants in Pune is almost same which is approximately 8 (A Good rating)"
   ]
  },
  {
   "cell_type": "markdown",
   "metadata": {},
   "source": [
    "Now we will plot the restaurants of these Clusters on the Pune map."
   ]
  },
  {
   "cell_type": "code",
   "execution_count": 21,
   "metadata": {},
   "outputs": [
    {
     "data": {
      "text/html": [
       "<div style=\"width:100%;\"><div style=\"position:relative;width:100%;height:0;padding-bottom:60%;\"><iframe src=\"about:blank\" style=\"position:absolute;width:100%;height:100%;left:0;top:0;border:none !important;\" data-html=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 onload=\"this.contentDocument.open();this.contentDocument.write(atob(this.getAttribute('data-html')));this.contentDocument.close();\" allowfullscreen webkitallowfullscreen mozallowfullscreen></iframe></div></div>"
      ],
      "text/plain": [
       "<folium.folium.Map at 0x7f8d1ab41358>"
      ]
     },
     "execution_count": 21,
     "metadata": {},
     "output_type": "execute_result"
    }
   ],
   "source": [
    "pune_map = folium.Map(location = [latitude, longitude], zoom_start = 12)\n",
    "color_map = { 0: 'green', 1: 'yellow', 2: 'red'}\n",
    "\n",
    "# add venues to the map\n",
    "markers_colors = []\n",
    "for venue, address, cluster, lat, lng in zip(mergedDfWithLabels['name'], \n",
    "                                                        mergedDfWithLabels['crossStreet'], \n",
    "                                                        mergedDfWithLabels['Labels'], \n",
    "                                                        mergedDfWithLabels['lat'], \n",
    "                                                        mergedDfWithLabels['lng']):\n",
    "    label = folium.Popup(str(venue) + ', ' + str(address), parse_html = True)\n",
    "    folium.CircleMarker(\n",
    "        [lat, lng],\n",
    "        radius = 5,\n",
    "        popup = label,\n",
    "        color = color_map[cluster],\n",
    "        fill = True,\n",
    "        fill_color = color_map[cluster],\n",
    "        fill_opacity = 0.7).add_to(pune_map)\n",
    "\n",
    "pune_map.save(\"ClustersMap.html\")\n",
    "pune_map"
   ]
  },
  {
   "cell_type": "markdown",
   "metadata": {},
   "source": [
    "## Results and Discussion <a name=\"results\"></a>"
   ]
  },
  {
   "cell_type": "markdown",
   "metadata": {},
   "source": [
    "Based on our analysis above, we can draw a number of conclusions that will be useful to any food lover in Pune\n",
    "\n",
    "After collecting data from the **Foursquare API** we got a total of **100** restaurants. However after Data cleaning it resuted in a total restaurant count of **64**.\n",
    "\n",
    "We identified that from the total number of eateries in Pune the most popular eateries are **Indian Restaurants, Cafes and Italian restaurants** respectively.\n",
    "\n",
    "We also understood that most of the eateries in Pune are **Moderately** and **Cheaply Priced** only few eateries fall in the **Expensive/ Very Expensive** Category\n",
    "\n",
    "Finally through Clustering we came to know that most of the restaurants in Pune have a **good Rating** and also based on the **Price range** they can be categorized into three types i.e.:\n",
    "- Cheaply priced Restaurants\n",
    "- Moderately priced Restaurants\n",
    "- Expensive/Very Expensive Restaurants\n",
    "\n",
    "With this information and by looking at the map we can conclude that :\n",
    "- **Cheaply priced** Restaurants are located mainly in the Wanawadi area and the Pune Cantonment area\n",
    "- **Moderately priced** Restaurants mainly are located near Deccan Gymkhana and Bund Garden road\n",
    "- **Expensive/Very Expensive** Restaurants are located mainly near Kothrud and Pune Junction area"
   ]
  },
  {
   "cell_type": "markdown",
   "metadata": {},
   "source": [
    "## Conclusion <a name=\"conclusion\"></a>"
   ]
  },
  {
   "cell_type": "markdown",
   "metadata": {},
   "source": [
    "The purpose of this project was to explore and group the restaurants in Pune based on their Ratings and Price range in order to help people locate the restaurants according to their needs.In this project we collected the required data, proccessed it, analyzed it and performed clustering of these restaurants and identified the places where we can find the restaurants of desired categories \n",
    "\n",
    "We found that Cheaply priced Restaurants are located mainly in the Wanawadi area and the Pune Cantonment area, while the Moderately priced Restaurants mainly are located near Deccan Gymkhana and Bund Garden road and the Expensive/Very Expensive Restaurants are located mainly near Kothrud and Pune Junction area"
   ]
  },
  {
   "cell_type": "code",
   "execution_count": null,
   "metadata": {},
   "outputs": [],
   "source": []
  },
  {
   "cell_type": "code",
   "execution_count": null,
   "metadata": {},
   "outputs": [],
   "source": []
  }
 ],
 "metadata": {
  "kernelspec": {
   "display_name": "Python",
   "language": "python",
   "name": "conda-env-python-py"
  },
  "language_info": {
   "codemirror_mode": {
    "name": "ipython",
    "version": 3
   },
   "file_extension": ".py",
   "mimetype": "text/x-python",
   "name": "python",
   "nbconvert_exporter": "python",
   "pygments_lexer": "ipython3",
   "version": "3.6.10"
  }
 },
 "nbformat": 4,
 "nbformat_minor": 4
}
